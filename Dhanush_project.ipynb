{
  "cells": [
    {
      "cell_type": "markdown",
      "metadata": {
        "id": "view-in-github",
        "colab_type": "text"
      },
      "source": [
        "<a href=\"https://colab.research.google.com/github/Dhanush25B/Final-Repository/blob/main/Dhanush_project.ipynb\" target=\"_parent\"><img src=\"https://colab.research.google.com/assets/colab-badge.svg\" alt=\"Open In Colab\"/></a>"
      ]
    },
    {
      "cell_type": "markdown",
      "metadata": {
        "id": "B11KBPMOrErr"
      },
      "source": [
        "**Import Package**"
      ]
    },
    {
      "cell_type": "code",
      "execution_count": 7,
      "metadata": {
        "id": "3SkiAtBprI1e"
      },
      "outputs": [],
      "source": [
        "import numpy as np\n",
        "import pandas as pd\n",
        "import matplotlib.pyplot as plt\n",
        "import seaborn as sns\n",
        "import plotly.figure_factory as ff\n",
        "from plotly.offline import download_plotlyjs, init_notebook_mode, plot, iplot"
      ]
    },
    {
      "cell_type": "markdown",
      "metadata": {
        "id": "aF_uL_ZerQ3c"
      },
      "source": [
        "**Dataset**"
      ]
    },
    {
      "cell_type": "code",
      "execution_count": 10,
      "metadata": {
        "colab": {
          "base_uri": "https://localhost:8080/",
          "height": 444
        },
        "id": "i-obfKXdrUok",
        "outputId": "edb9a004-ed85-40c5-f1e2-17cdd31d4afa"
      },
      "outputs": [
        {
          "output_type": "execute_result",
          "data": {
            "text/plain": [
              "      Time        V1        V2        V3        V4        V5        V6  \\\n",
              "0        0 -1.359807 -0.072781  2.536347  1.378155 -0.338321  0.462388   \n",
              "1        0  1.191857  0.266151  0.166480  0.448154  0.060018 -0.082361   \n",
              "2        1 -1.358354 -1.340163  1.773209  0.379780 -0.503198  1.800499   \n",
              "3        1 -0.966272 -0.185226  1.792993 -0.863291 -0.010309  1.247203   \n",
              "4        2 -1.158233  0.877737  1.548718  0.403034 -0.407193  0.095921   \n",
              "...    ...       ...       ...       ...       ...       ...       ...   \n",
              "2918  2466  1.116144  0.513875  0.866488  2.512308 -0.262168 -0.268716   \n",
              "2919  2466  0.845195 -0.870368  0.282338 -0.626082 -0.878119 -0.475066   \n",
              "2920  2468  1.168080  0.230076  0.387696  0.735736 -0.414904 -0.801379   \n",
              "2921  2469  1.217259  0.190830  0.244988  0.700570 -0.244268 -0.726727   \n",
              "2922  2471  0.980827 -0.548100 -0.376505  0.090482 -0.315812 -0.765952   \n",
              "\n",
              "            V7        V8        V9  ...       V21       V22       V23  \\\n",
              "0     0.239599  0.098698  0.363787  ... -0.018307  0.277838 -0.110474   \n",
              "1    -0.078803  0.085102 -0.255425  ... -0.225775 -0.638672  0.101288   \n",
              "2     0.791461  0.247676 -1.514654  ...  0.247998  0.771679  0.909412   \n",
              "3     0.237609  0.377436 -1.387024  ... -0.108300  0.005274 -0.190321   \n",
              "4     0.592941 -0.270533  0.817739  ... -0.009431  0.798278 -0.137458   \n",
              "...        ...       ...       ...  ...       ...       ...       ...   \n",
              "2918 -0.001428  0.064595 -0.637979  ... -0.208885 -0.690477  0.224231   \n",
              "2919 -0.030817 -0.100041  1.453727  ...  0.151335  0.310226 -0.254405   \n",
              "2920 -0.015033 -0.050620  0.107392  ... -0.239554 -0.716797  0.197339   \n",
              "2921  0.195373 -0.172495  0.077152  ... -0.015131  0.173487 -0.042304   \n",
              "2922  0.450150 -0.328645  0.267872  ... -0.005744 -0.268612 -0.322785   \n",
              "\n",
              "           V24       V25       V26       V27       V28  Amount  Class  \n",
              "0     0.066928  0.128539 -0.189115  0.133558 -0.021053  149.62    0.0  \n",
              "1    -0.339846  0.167170  0.125895 -0.008983  0.014724    2.69    0.0  \n",
              "2    -0.689281 -0.327642 -0.139097 -0.055353 -0.059752  378.66    0.0  \n",
              "3    -1.175575  0.647376 -0.221929  0.062723  0.061458  123.50    0.0  \n",
              "4     0.141267 -0.206010  0.502292  0.219422  0.215153   69.99    0.0  \n",
              "...        ...       ...       ...       ...       ...     ...    ...  \n",
              "2918  0.331436  0.103843 -0.254106  0.004526  0.027106    4.37    0.0  \n",
              "2919  0.139810  0.555793 -0.620068  0.056170  0.059129  200.24    0.0  \n",
              "2920  0.342135  0.072865  0.104995 -0.012694  0.031213   12.99    0.0  \n",
              "2921  0.473833  0.562555  0.563152 -0.032448  0.001320    0.00    0.0  \n",
              "2922 -0.023361  0.560064  1.133775 -0.100000       NaN     NaN    NaN  \n",
              "\n",
              "[2923 rows x 31 columns]"
            ],
            "text/html": [
              "\n",
              "  <div id=\"df-a32cd376-db8b-4e75-b913-576b3e91684a\" class=\"colab-df-container\">\n",
              "    <div>\n",
              "<style scoped>\n",
              "    .dataframe tbody tr th:only-of-type {\n",
              "        vertical-align: middle;\n",
              "    }\n",
              "\n",
              "    .dataframe tbody tr th {\n",
              "        vertical-align: top;\n",
              "    }\n",
              "\n",
              "    .dataframe thead th {\n",
              "        text-align: right;\n",
              "    }\n",
              "</style>\n",
              "<table border=\"1\" class=\"dataframe\">\n",
              "  <thead>\n",
              "    <tr style=\"text-align: right;\">\n",
              "      <th></th>\n",
              "      <th>Time</th>\n",
              "      <th>V1</th>\n",
              "      <th>V2</th>\n",
              "      <th>V3</th>\n",
              "      <th>V4</th>\n",
              "      <th>V5</th>\n",
              "      <th>V6</th>\n",
              "      <th>V7</th>\n",
              "      <th>V8</th>\n",
              "      <th>V9</th>\n",
              "      <th>...</th>\n",
              "      <th>V21</th>\n",
              "      <th>V22</th>\n",
              "      <th>V23</th>\n",
              "      <th>V24</th>\n",
              "      <th>V25</th>\n",
              "      <th>V26</th>\n",
              "      <th>V27</th>\n",
              "      <th>V28</th>\n",
              "      <th>Amount</th>\n",
              "      <th>Class</th>\n",
              "    </tr>\n",
              "  </thead>\n",
              "  <tbody>\n",
              "    <tr>\n",
              "      <th>0</th>\n",
              "      <td>0</td>\n",
              "      <td>-1.359807</td>\n",
              "      <td>-0.072781</td>\n",
              "      <td>2.536347</td>\n",
              "      <td>1.378155</td>\n",
              "      <td>-0.338321</td>\n",
              "      <td>0.462388</td>\n",
              "      <td>0.239599</td>\n",
              "      <td>0.098698</td>\n",
              "      <td>0.363787</td>\n",
              "      <td>...</td>\n",
              "      <td>-0.018307</td>\n",
              "      <td>0.277838</td>\n",
              "      <td>-0.110474</td>\n",
              "      <td>0.066928</td>\n",
              "      <td>0.128539</td>\n",
              "      <td>-0.189115</td>\n",
              "      <td>0.133558</td>\n",
              "      <td>-0.021053</td>\n",
              "      <td>149.62</td>\n",
              "      <td>0.0</td>\n",
              "    </tr>\n",
              "    <tr>\n",
              "      <th>1</th>\n",
              "      <td>0</td>\n",
              "      <td>1.191857</td>\n",
              "      <td>0.266151</td>\n",
              "      <td>0.166480</td>\n",
              "      <td>0.448154</td>\n",
              "      <td>0.060018</td>\n",
              "      <td>-0.082361</td>\n",
              "      <td>-0.078803</td>\n",
              "      <td>0.085102</td>\n",
              "      <td>-0.255425</td>\n",
              "      <td>...</td>\n",
              "      <td>-0.225775</td>\n",
              "      <td>-0.638672</td>\n",
              "      <td>0.101288</td>\n",
              "      <td>-0.339846</td>\n",
              "      <td>0.167170</td>\n",
              "      <td>0.125895</td>\n",
              "      <td>-0.008983</td>\n",
              "      <td>0.014724</td>\n",
              "      <td>2.69</td>\n",
              "      <td>0.0</td>\n",
              "    </tr>\n",
              "    <tr>\n",
              "      <th>2</th>\n",
              "      <td>1</td>\n",
              "      <td>-1.358354</td>\n",
              "      <td>-1.340163</td>\n",
              "      <td>1.773209</td>\n",
              "      <td>0.379780</td>\n",
              "      <td>-0.503198</td>\n",
              "      <td>1.800499</td>\n",
              "      <td>0.791461</td>\n",
              "      <td>0.247676</td>\n",
              "      <td>-1.514654</td>\n",
              "      <td>...</td>\n",
              "      <td>0.247998</td>\n",
              "      <td>0.771679</td>\n",
              "      <td>0.909412</td>\n",
              "      <td>-0.689281</td>\n",
              "      <td>-0.327642</td>\n",
              "      <td>-0.139097</td>\n",
              "      <td>-0.055353</td>\n",
              "      <td>-0.059752</td>\n",
              "      <td>378.66</td>\n",
              "      <td>0.0</td>\n",
              "    </tr>\n",
              "    <tr>\n",
              "      <th>3</th>\n",
              "      <td>1</td>\n",
              "      <td>-0.966272</td>\n",
              "      <td>-0.185226</td>\n",
              "      <td>1.792993</td>\n",
              "      <td>-0.863291</td>\n",
              "      <td>-0.010309</td>\n",
              "      <td>1.247203</td>\n",
              "      <td>0.237609</td>\n",
              "      <td>0.377436</td>\n",
              "      <td>-1.387024</td>\n",
              "      <td>...</td>\n",
              "      <td>-0.108300</td>\n",
              "      <td>0.005274</td>\n",
              "      <td>-0.190321</td>\n",
              "      <td>-1.175575</td>\n",
              "      <td>0.647376</td>\n",
              "      <td>-0.221929</td>\n",
              "      <td>0.062723</td>\n",
              "      <td>0.061458</td>\n",
              "      <td>123.50</td>\n",
              "      <td>0.0</td>\n",
              "    </tr>\n",
              "    <tr>\n",
              "      <th>4</th>\n",
              "      <td>2</td>\n",
              "      <td>-1.158233</td>\n",
              "      <td>0.877737</td>\n",
              "      <td>1.548718</td>\n",
              "      <td>0.403034</td>\n",
              "      <td>-0.407193</td>\n",
              "      <td>0.095921</td>\n",
              "      <td>0.592941</td>\n",
              "      <td>-0.270533</td>\n",
              "      <td>0.817739</td>\n",
              "      <td>...</td>\n",
              "      <td>-0.009431</td>\n",
              "      <td>0.798278</td>\n",
              "      <td>-0.137458</td>\n",
              "      <td>0.141267</td>\n",
              "      <td>-0.206010</td>\n",
              "      <td>0.502292</td>\n",
              "      <td>0.219422</td>\n",
              "      <td>0.215153</td>\n",
              "      <td>69.99</td>\n",
              "      <td>0.0</td>\n",
              "    </tr>\n",
              "    <tr>\n",
              "      <th>...</th>\n",
              "      <td>...</td>\n",
              "      <td>...</td>\n",
              "      <td>...</td>\n",
              "      <td>...</td>\n",
              "      <td>...</td>\n",
              "      <td>...</td>\n",
              "      <td>...</td>\n",
              "      <td>...</td>\n",
              "      <td>...</td>\n",
              "      <td>...</td>\n",
              "      <td>...</td>\n",
              "      <td>...</td>\n",
              "      <td>...</td>\n",
              "      <td>...</td>\n",
              "      <td>...</td>\n",
              "      <td>...</td>\n",
              "      <td>...</td>\n",
              "      <td>...</td>\n",
              "      <td>...</td>\n",
              "      <td>...</td>\n",
              "      <td>...</td>\n",
              "    </tr>\n",
              "    <tr>\n",
              "      <th>2918</th>\n",
              "      <td>2466</td>\n",
              "      <td>1.116144</td>\n",
              "      <td>0.513875</td>\n",
              "      <td>0.866488</td>\n",
              "      <td>2.512308</td>\n",
              "      <td>-0.262168</td>\n",
              "      <td>-0.268716</td>\n",
              "      <td>-0.001428</td>\n",
              "      <td>0.064595</td>\n",
              "      <td>-0.637979</td>\n",
              "      <td>...</td>\n",
              "      <td>-0.208885</td>\n",
              "      <td>-0.690477</td>\n",
              "      <td>0.224231</td>\n",
              "      <td>0.331436</td>\n",
              "      <td>0.103843</td>\n",
              "      <td>-0.254106</td>\n",
              "      <td>0.004526</td>\n",
              "      <td>0.027106</td>\n",
              "      <td>4.37</td>\n",
              "      <td>0.0</td>\n",
              "    </tr>\n",
              "    <tr>\n",
              "      <th>2919</th>\n",
              "      <td>2466</td>\n",
              "      <td>0.845195</td>\n",
              "      <td>-0.870368</td>\n",
              "      <td>0.282338</td>\n",
              "      <td>-0.626082</td>\n",
              "      <td>-0.878119</td>\n",
              "      <td>-0.475066</td>\n",
              "      <td>-0.030817</td>\n",
              "      <td>-0.100041</td>\n",
              "      <td>1.453727</td>\n",
              "      <td>...</td>\n",
              "      <td>0.151335</td>\n",
              "      <td>0.310226</td>\n",
              "      <td>-0.254405</td>\n",
              "      <td>0.139810</td>\n",
              "      <td>0.555793</td>\n",
              "      <td>-0.620068</td>\n",
              "      <td>0.056170</td>\n",
              "      <td>0.059129</td>\n",
              "      <td>200.24</td>\n",
              "      <td>0.0</td>\n",
              "    </tr>\n",
              "    <tr>\n",
              "      <th>2920</th>\n",
              "      <td>2468</td>\n",
              "      <td>1.168080</td>\n",
              "      <td>0.230076</td>\n",
              "      <td>0.387696</td>\n",
              "      <td>0.735736</td>\n",
              "      <td>-0.414904</td>\n",
              "      <td>-0.801379</td>\n",
              "      <td>-0.015033</td>\n",
              "      <td>-0.050620</td>\n",
              "      <td>0.107392</td>\n",
              "      <td>...</td>\n",
              "      <td>-0.239554</td>\n",
              "      <td>-0.716797</td>\n",
              "      <td>0.197339</td>\n",
              "      <td>0.342135</td>\n",
              "      <td>0.072865</td>\n",
              "      <td>0.104995</td>\n",
              "      <td>-0.012694</td>\n",
              "      <td>0.031213</td>\n",
              "      <td>12.99</td>\n",
              "      <td>0.0</td>\n",
              "    </tr>\n",
              "    <tr>\n",
              "      <th>2921</th>\n",
              "      <td>2469</td>\n",
              "      <td>1.217259</td>\n",
              "      <td>0.190830</td>\n",
              "      <td>0.244988</td>\n",
              "      <td>0.700570</td>\n",
              "      <td>-0.244268</td>\n",
              "      <td>-0.726727</td>\n",
              "      <td>0.195373</td>\n",
              "      <td>-0.172495</td>\n",
              "      <td>0.077152</td>\n",
              "      <td>...</td>\n",
              "      <td>-0.015131</td>\n",
              "      <td>0.173487</td>\n",
              "      <td>-0.042304</td>\n",
              "      <td>0.473833</td>\n",
              "      <td>0.562555</td>\n",
              "      <td>0.563152</td>\n",
              "      <td>-0.032448</td>\n",
              "      <td>0.001320</td>\n",
              "      <td>0.00</td>\n",
              "      <td>0.0</td>\n",
              "    </tr>\n",
              "    <tr>\n",
              "      <th>2922</th>\n",
              "      <td>2471</td>\n",
              "      <td>0.980827</td>\n",
              "      <td>-0.548100</td>\n",
              "      <td>-0.376505</td>\n",
              "      <td>0.090482</td>\n",
              "      <td>-0.315812</td>\n",
              "      <td>-0.765952</td>\n",
              "      <td>0.450150</td>\n",
              "      <td>-0.328645</td>\n",
              "      <td>0.267872</td>\n",
              "      <td>...</td>\n",
              "      <td>-0.005744</td>\n",
              "      <td>-0.268612</td>\n",
              "      <td>-0.322785</td>\n",
              "      <td>-0.023361</td>\n",
              "      <td>0.560064</td>\n",
              "      <td>1.133775</td>\n",
              "      <td>-0.100000</td>\n",
              "      <td>NaN</td>\n",
              "      <td>NaN</td>\n",
              "      <td>NaN</td>\n",
              "    </tr>\n",
              "  </tbody>\n",
              "</table>\n",
              "<p>2923 rows × 31 columns</p>\n",
              "</div>\n",
              "    <div class=\"colab-df-buttons\">\n",
              "\n",
              "  <div class=\"colab-df-container\">\n",
              "    <button class=\"colab-df-convert\" onclick=\"convertToInteractive('df-a32cd376-db8b-4e75-b913-576b3e91684a')\"\n",
              "            title=\"Convert this dataframe to an interactive table.\"\n",
              "            style=\"display:none;\">\n",
              "\n",
              "  <svg xmlns=\"http://www.w3.org/2000/svg\" height=\"24px\" viewBox=\"0 -960 960 960\">\n",
              "    <path d=\"M120-120v-720h720v720H120Zm60-500h600v-160H180v160Zm220 220h160v-160H400v160Zm0 220h160v-160H400v160ZM180-400h160v-160H180v160Zm440 0h160v-160H620v160ZM180-180h160v-160H180v160Zm440 0h160v-160H620v160Z\"/>\n",
              "  </svg>\n",
              "    </button>\n",
              "\n",
              "  <style>\n",
              "    .colab-df-container {\n",
              "      display:flex;\n",
              "      gap: 12px;\n",
              "    }\n",
              "\n",
              "    .colab-df-convert {\n",
              "      background-color: #E8F0FE;\n",
              "      border: none;\n",
              "      border-radius: 50%;\n",
              "      cursor: pointer;\n",
              "      display: none;\n",
              "      fill: #1967D2;\n",
              "      height: 32px;\n",
              "      padding: 0 0 0 0;\n",
              "      width: 32px;\n",
              "    }\n",
              "\n",
              "    .colab-df-convert:hover {\n",
              "      background-color: #E2EBFA;\n",
              "      box-shadow: 0px 1px 2px rgba(60, 64, 67, 0.3), 0px 1px 3px 1px rgba(60, 64, 67, 0.15);\n",
              "      fill: #174EA6;\n",
              "    }\n",
              "\n",
              "    .colab-df-buttons div {\n",
              "      margin-bottom: 4px;\n",
              "    }\n",
              "\n",
              "    [theme=dark] .colab-df-convert {\n",
              "      background-color: #3B4455;\n",
              "      fill: #D2E3FC;\n",
              "    }\n",
              "\n",
              "    [theme=dark] .colab-df-convert:hover {\n",
              "      background-color: #434B5C;\n",
              "      box-shadow: 0px 1px 3px 1px rgba(0, 0, 0, 0.15);\n",
              "      filter: drop-shadow(0px 1px 2px rgba(0, 0, 0, 0.3));\n",
              "      fill: #FFFFFF;\n",
              "    }\n",
              "  </style>\n",
              "\n",
              "    <script>\n",
              "      const buttonEl =\n",
              "        document.querySelector('#df-a32cd376-db8b-4e75-b913-576b3e91684a button.colab-df-convert');\n",
              "      buttonEl.style.display =\n",
              "        google.colab.kernel.accessAllowed ? 'block' : 'none';\n",
              "\n",
              "      async function convertToInteractive(key) {\n",
              "        const element = document.querySelector('#df-a32cd376-db8b-4e75-b913-576b3e91684a');\n",
              "        const dataTable =\n",
              "          await google.colab.kernel.invokeFunction('convertToInteractive',\n",
              "                                                    [key], {});\n",
              "        if (!dataTable) return;\n",
              "\n",
              "        const docLinkHtml = 'Like what you see? Visit the ' +\n",
              "          '<a target=\"_blank\" href=https://colab.research.google.com/notebooks/data_table.ipynb>data table notebook</a>'\n",
              "          + ' to learn more about interactive tables.';\n",
              "        element.innerHTML = '';\n",
              "        dataTable['output_type'] = 'display_data';\n",
              "        await google.colab.output.renderOutput(dataTable, element);\n",
              "        const docLink = document.createElement('div');\n",
              "        docLink.innerHTML = docLinkHtml;\n",
              "        element.appendChild(docLink);\n",
              "      }\n",
              "    </script>\n",
              "  </div>\n",
              "\n",
              "\n",
              "<div id=\"df-612540c7-72b4-4392-b461-2f37bf16c7fe\">\n",
              "  <button class=\"colab-df-quickchart\" onclick=\"quickchart('df-612540c7-72b4-4392-b461-2f37bf16c7fe')\"\n",
              "            title=\"Suggest charts\"\n",
              "            style=\"display:none;\">\n",
              "\n",
              "<svg xmlns=\"http://www.w3.org/2000/svg\" height=\"24px\"viewBox=\"0 0 24 24\"\n",
              "     width=\"24px\">\n",
              "    <g>\n",
              "        <path d=\"M19 3H5c-1.1 0-2 .9-2 2v14c0 1.1.9 2 2 2h14c1.1 0 2-.9 2-2V5c0-1.1-.9-2-2-2zM9 17H7v-7h2v7zm4 0h-2V7h2v10zm4 0h-2v-4h2v4z\"/>\n",
              "    </g>\n",
              "</svg>\n",
              "  </button>\n",
              "\n",
              "<style>\n",
              "  .colab-df-quickchart {\n",
              "      --bg-color: #E8F0FE;\n",
              "      --fill-color: #1967D2;\n",
              "      --hover-bg-color: #E2EBFA;\n",
              "      --hover-fill-color: #174EA6;\n",
              "      --disabled-fill-color: #AAA;\n",
              "      --disabled-bg-color: #DDD;\n",
              "  }\n",
              "\n",
              "  [theme=dark] .colab-df-quickchart {\n",
              "      --bg-color: #3B4455;\n",
              "      --fill-color: #D2E3FC;\n",
              "      --hover-bg-color: #434B5C;\n",
              "      --hover-fill-color: #FFFFFF;\n",
              "      --disabled-bg-color: #3B4455;\n",
              "      --disabled-fill-color: #666;\n",
              "  }\n",
              "\n",
              "  .colab-df-quickchart {\n",
              "    background-color: var(--bg-color);\n",
              "    border: none;\n",
              "    border-radius: 50%;\n",
              "    cursor: pointer;\n",
              "    display: none;\n",
              "    fill: var(--fill-color);\n",
              "    height: 32px;\n",
              "    padding: 0;\n",
              "    width: 32px;\n",
              "  }\n",
              "\n",
              "  .colab-df-quickchart:hover {\n",
              "    background-color: var(--hover-bg-color);\n",
              "    box-shadow: 0 1px 2px rgba(60, 64, 67, 0.3), 0 1px 3px 1px rgba(60, 64, 67, 0.15);\n",
              "    fill: var(--button-hover-fill-color);\n",
              "  }\n",
              "\n",
              "  .colab-df-quickchart-complete:disabled,\n",
              "  .colab-df-quickchart-complete:disabled:hover {\n",
              "    background-color: var(--disabled-bg-color);\n",
              "    fill: var(--disabled-fill-color);\n",
              "    box-shadow: none;\n",
              "  }\n",
              "\n",
              "  .colab-df-spinner {\n",
              "    border: 2px solid var(--fill-color);\n",
              "    border-color: transparent;\n",
              "    border-bottom-color: var(--fill-color);\n",
              "    animation:\n",
              "      spin 1s steps(1) infinite;\n",
              "  }\n",
              "\n",
              "  @keyframes spin {\n",
              "    0% {\n",
              "      border-color: transparent;\n",
              "      border-bottom-color: var(--fill-color);\n",
              "      border-left-color: var(--fill-color);\n",
              "    }\n",
              "    20% {\n",
              "      border-color: transparent;\n",
              "      border-left-color: var(--fill-color);\n",
              "      border-top-color: var(--fill-color);\n",
              "    }\n",
              "    30% {\n",
              "      border-color: transparent;\n",
              "      border-left-color: var(--fill-color);\n",
              "      border-top-color: var(--fill-color);\n",
              "      border-right-color: var(--fill-color);\n",
              "    }\n",
              "    40% {\n",
              "      border-color: transparent;\n",
              "      border-right-color: var(--fill-color);\n",
              "      border-top-color: var(--fill-color);\n",
              "    }\n",
              "    60% {\n",
              "      border-color: transparent;\n",
              "      border-right-color: var(--fill-color);\n",
              "    }\n",
              "    80% {\n",
              "      border-color: transparent;\n",
              "      border-right-color: var(--fill-color);\n",
              "      border-bottom-color: var(--fill-color);\n",
              "    }\n",
              "    90% {\n",
              "      border-color: transparent;\n",
              "      border-bottom-color: var(--fill-color);\n",
              "    }\n",
              "  }\n",
              "</style>\n",
              "\n",
              "  <script>\n",
              "    async function quickchart(key) {\n",
              "      const quickchartButtonEl =\n",
              "        document.querySelector('#' + key + ' button');\n",
              "      quickchartButtonEl.disabled = true;  // To prevent multiple clicks.\n",
              "      quickchartButtonEl.classList.add('colab-df-spinner');\n",
              "      try {\n",
              "        const charts = await google.colab.kernel.invokeFunction(\n",
              "            'suggestCharts', [key], {});\n",
              "      } catch (error) {\n",
              "        console.error('Error during call to suggestCharts:', error);\n",
              "      }\n",
              "      quickchartButtonEl.classList.remove('colab-df-spinner');\n",
              "      quickchartButtonEl.classList.add('colab-df-quickchart-complete');\n",
              "    }\n",
              "    (() => {\n",
              "      let quickchartButtonEl =\n",
              "        document.querySelector('#df-612540c7-72b4-4392-b461-2f37bf16c7fe button');\n",
              "      quickchartButtonEl.style.display =\n",
              "        google.colab.kernel.accessAllowed ? 'block' : 'none';\n",
              "    })();\n",
              "  </script>\n",
              "</div>\n",
              "\n",
              "  <div id=\"id_cf0f3bec-6575-4983-bc1c-013990e16a32\">\n",
              "    <style>\n",
              "      .colab-df-generate {\n",
              "        background-color: #E8F0FE;\n",
              "        border: none;\n",
              "        border-radius: 50%;\n",
              "        cursor: pointer;\n",
              "        display: none;\n",
              "        fill: #1967D2;\n",
              "        height: 32px;\n",
              "        padding: 0 0 0 0;\n",
              "        width: 32px;\n",
              "      }\n",
              "\n",
              "      .colab-df-generate:hover {\n",
              "        background-color: #E2EBFA;\n",
              "        box-shadow: 0px 1px 2px rgba(60, 64, 67, 0.3), 0px 1px 3px 1px rgba(60, 64, 67, 0.15);\n",
              "        fill: #174EA6;\n",
              "      }\n",
              "\n",
              "      [theme=dark] .colab-df-generate {\n",
              "        background-color: #3B4455;\n",
              "        fill: #D2E3FC;\n",
              "      }\n",
              "\n",
              "      [theme=dark] .colab-df-generate:hover {\n",
              "        background-color: #434B5C;\n",
              "        box-shadow: 0px 1px 3px 1px rgba(0, 0, 0, 0.15);\n",
              "        filter: drop-shadow(0px 1px 2px rgba(0, 0, 0, 0.3));\n",
              "        fill: #FFFFFF;\n",
              "      }\n",
              "    </style>\n",
              "    <button class=\"colab-df-generate\" onclick=\"generateWithVariable('credit_card_data')\"\n",
              "            title=\"Generate code using this dataframe.\"\n",
              "            style=\"display:none;\">\n",
              "\n",
              "  <svg xmlns=\"http://www.w3.org/2000/svg\" height=\"24px\"viewBox=\"0 0 24 24\"\n",
              "       width=\"24px\">\n",
              "    <path d=\"M7,19H8.4L18.45,9,17,7.55,7,17.6ZM5,21V16.75L18.45,3.32a2,2,0,0,1,2.83,0l1.4,1.43a1.91,1.91,0,0,1,.58,1.4,1.91,1.91,0,0,1-.58,1.4L9.25,21ZM18.45,9,17,7.55Zm-12,3A5.31,5.31,0,0,0,4.9,8.1,5.31,5.31,0,0,0,1,6.5,5.31,5.31,0,0,0,4.9,4.9,5.31,5.31,0,0,0,6.5,1,5.31,5.31,0,0,0,8.1,4.9,5.31,5.31,0,0,0,12,6.5,5.46,5.46,0,0,0,6.5,12Z\"/>\n",
              "  </svg>\n",
              "    </button>\n",
              "    <script>\n",
              "      (() => {\n",
              "      const buttonEl =\n",
              "        document.querySelector('#id_cf0f3bec-6575-4983-bc1c-013990e16a32 button.colab-df-generate');\n",
              "      buttonEl.style.display =\n",
              "        google.colab.kernel.accessAllowed ? 'block' : 'none';\n",
              "\n",
              "      buttonEl.onclick = () => {\n",
              "        google.colab.notebook.generateWithVariable('credit_card_data');\n",
              "      }\n",
              "      })();\n",
              "    </script>\n",
              "  </div>\n",
              "\n",
              "    </div>\n",
              "  </div>\n"
            ]
          },
          "metadata": {},
          "execution_count": 10
        }
      ],
      "source": [
        "credit_card_data = pd.read_csv('creditcard.csv')\n",
        "credit_card_data"
      ]
    },
    {
      "cell_type": "code",
      "execution_count": 11,
      "metadata": {
        "colab": {
          "base_uri": "https://localhost:8080/"
        },
        "id": "zznRv_E_9F_y",
        "outputId": "d58a6ef2-2747-467d-cbe7-b2ae68209dd7"
      },
      "outputs": [
        {
          "output_type": "stream",
          "name": "stdout",
          "text": [
            "Mounted at /content/drive\n"
          ]
        }
      ],
      "source": [
        "from google.colab import drive\n",
        "drive.mount('/content/drive')"
      ]
    },
    {
      "cell_type": "code",
      "execution_count": 12,
      "metadata": {
        "colab": {
          "base_uri": "https://localhost:8080/",
          "height": 256
        },
        "id": "KbwCx_vZtsxx",
        "outputId": "c16b7f76-ff51-4d3f-9d6c-0b0a1a9b8e15"
      },
      "outputs": [
        {
          "output_type": "execute_result",
          "data": {
            "text/plain": [
              "   Time        V1        V2        V3        V4        V5        V6        V7  \\\n",
              "0     0 -1.359807 -0.072781  2.536347  1.378155 -0.338321  0.462388  0.239599   \n",
              "1     0  1.191857  0.266151  0.166480  0.448154  0.060018 -0.082361 -0.078803   \n",
              "2     1 -1.358354 -1.340163  1.773209  0.379780 -0.503198  1.800499  0.791461   \n",
              "3     1 -0.966272 -0.185226  1.792993 -0.863291 -0.010309  1.247203  0.237609   \n",
              "4     2 -1.158233  0.877737  1.548718  0.403034 -0.407193  0.095921  0.592941   \n",
              "\n",
              "         V8        V9  ...       V21       V22       V23       V24       V25  \\\n",
              "0  0.098698  0.363787  ... -0.018307  0.277838 -0.110474  0.066928  0.128539   \n",
              "1  0.085102 -0.255425  ... -0.225775 -0.638672  0.101288 -0.339846  0.167170   \n",
              "2  0.247676 -1.514654  ...  0.247998  0.771679  0.909412 -0.689281 -0.327642   \n",
              "3  0.377436 -1.387024  ... -0.108300  0.005274 -0.190321 -1.175575  0.647376   \n",
              "4 -0.270533  0.817739  ... -0.009431  0.798278 -0.137458  0.141267 -0.206010   \n",
              "\n",
              "        V26       V27       V28  Amount  Class  \n",
              "0 -0.189115  0.133558 -0.021053  149.62    0.0  \n",
              "1  0.125895 -0.008983  0.014724    2.69    0.0  \n",
              "2 -0.139097 -0.055353 -0.059752  378.66    0.0  \n",
              "3 -0.221929  0.062723  0.061458  123.50    0.0  \n",
              "4  0.502292  0.219422  0.215153   69.99    0.0  \n",
              "\n",
              "[5 rows x 31 columns]"
            ],
            "text/html": [
              "\n",
              "  <div id=\"df-6cb7b58a-c6cd-455c-a51a-2ec5bc531920\" class=\"colab-df-container\">\n",
              "    <div>\n",
              "<style scoped>\n",
              "    .dataframe tbody tr th:only-of-type {\n",
              "        vertical-align: middle;\n",
              "    }\n",
              "\n",
              "    .dataframe tbody tr th {\n",
              "        vertical-align: top;\n",
              "    }\n",
              "\n",
              "    .dataframe thead th {\n",
              "        text-align: right;\n",
              "    }\n",
              "</style>\n",
              "<table border=\"1\" class=\"dataframe\">\n",
              "  <thead>\n",
              "    <tr style=\"text-align: right;\">\n",
              "      <th></th>\n",
              "      <th>Time</th>\n",
              "      <th>V1</th>\n",
              "      <th>V2</th>\n",
              "      <th>V3</th>\n",
              "      <th>V4</th>\n",
              "      <th>V5</th>\n",
              "      <th>V6</th>\n",
              "      <th>V7</th>\n",
              "      <th>V8</th>\n",
              "      <th>V9</th>\n",
              "      <th>...</th>\n",
              "      <th>V21</th>\n",
              "      <th>V22</th>\n",
              "      <th>V23</th>\n",
              "      <th>V24</th>\n",
              "      <th>V25</th>\n",
              "      <th>V26</th>\n",
              "      <th>V27</th>\n",
              "      <th>V28</th>\n",
              "      <th>Amount</th>\n",
              "      <th>Class</th>\n",
              "    </tr>\n",
              "  </thead>\n",
              "  <tbody>\n",
              "    <tr>\n",
              "      <th>0</th>\n",
              "      <td>0</td>\n",
              "      <td>-1.359807</td>\n",
              "      <td>-0.072781</td>\n",
              "      <td>2.536347</td>\n",
              "      <td>1.378155</td>\n",
              "      <td>-0.338321</td>\n",
              "      <td>0.462388</td>\n",
              "      <td>0.239599</td>\n",
              "      <td>0.098698</td>\n",
              "      <td>0.363787</td>\n",
              "      <td>...</td>\n",
              "      <td>-0.018307</td>\n",
              "      <td>0.277838</td>\n",
              "      <td>-0.110474</td>\n",
              "      <td>0.066928</td>\n",
              "      <td>0.128539</td>\n",
              "      <td>-0.189115</td>\n",
              "      <td>0.133558</td>\n",
              "      <td>-0.021053</td>\n",
              "      <td>149.62</td>\n",
              "      <td>0.0</td>\n",
              "    </tr>\n",
              "    <tr>\n",
              "      <th>1</th>\n",
              "      <td>0</td>\n",
              "      <td>1.191857</td>\n",
              "      <td>0.266151</td>\n",
              "      <td>0.166480</td>\n",
              "      <td>0.448154</td>\n",
              "      <td>0.060018</td>\n",
              "      <td>-0.082361</td>\n",
              "      <td>-0.078803</td>\n",
              "      <td>0.085102</td>\n",
              "      <td>-0.255425</td>\n",
              "      <td>...</td>\n",
              "      <td>-0.225775</td>\n",
              "      <td>-0.638672</td>\n",
              "      <td>0.101288</td>\n",
              "      <td>-0.339846</td>\n",
              "      <td>0.167170</td>\n",
              "      <td>0.125895</td>\n",
              "      <td>-0.008983</td>\n",
              "      <td>0.014724</td>\n",
              "      <td>2.69</td>\n",
              "      <td>0.0</td>\n",
              "    </tr>\n",
              "    <tr>\n",
              "      <th>2</th>\n",
              "      <td>1</td>\n",
              "      <td>-1.358354</td>\n",
              "      <td>-1.340163</td>\n",
              "      <td>1.773209</td>\n",
              "      <td>0.379780</td>\n",
              "      <td>-0.503198</td>\n",
              "      <td>1.800499</td>\n",
              "      <td>0.791461</td>\n",
              "      <td>0.247676</td>\n",
              "      <td>-1.514654</td>\n",
              "      <td>...</td>\n",
              "      <td>0.247998</td>\n",
              "      <td>0.771679</td>\n",
              "      <td>0.909412</td>\n",
              "      <td>-0.689281</td>\n",
              "      <td>-0.327642</td>\n",
              "      <td>-0.139097</td>\n",
              "      <td>-0.055353</td>\n",
              "      <td>-0.059752</td>\n",
              "      <td>378.66</td>\n",
              "      <td>0.0</td>\n",
              "    </tr>\n",
              "    <tr>\n",
              "      <th>3</th>\n",
              "      <td>1</td>\n",
              "      <td>-0.966272</td>\n",
              "      <td>-0.185226</td>\n",
              "      <td>1.792993</td>\n",
              "      <td>-0.863291</td>\n",
              "      <td>-0.010309</td>\n",
              "      <td>1.247203</td>\n",
              "      <td>0.237609</td>\n",
              "      <td>0.377436</td>\n",
              "      <td>-1.387024</td>\n",
              "      <td>...</td>\n",
              "      <td>-0.108300</td>\n",
              "      <td>0.005274</td>\n",
              "      <td>-0.190321</td>\n",
              "      <td>-1.175575</td>\n",
              "      <td>0.647376</td>\n",
              "      <td>-0.221929</td>\n",
              "      <td>0.062723</td>\n",
              "      <td>0.061458</td>\n",
              "      <td>123.50</td>\n",
              "      <td>0.0</td>\n",
              "    </tr>\n",
              "    <tr>\n",
              "      <th>4</th>\n",
              "      <td>2</td>\n",
              "      <td>-1.158233</td>\n",
              "      <td>0.877737</td>\n",
              "      <td>1.548718</td>\n",
              "      <td>0.403034</td>\n",
              "      <td>-0.407193</td>\n",
              "      <td>0.095921</td>\n",
              "      <td>0.592941</td>\n",
              "      <td>-0.270533</td>\n",
              "      <td>0.817739</td>\n",
              "      <td>...</td>\n",
              "      <td>-0.009431</td>\n",
              "      <td>0.798278</td>\n",
              "      <td>-0.137458</td>\n",
              "      <td>0.141267</td>\n",
              "      <td>-0.206010</td>\n",
              "      <td>0.502292</td>\n",
              "      <td>0.219422</td>\n",
              "      <td>0.215153</td>\n",
              "      <td>69.99</td>\n",
              "      <td>0.0</td>\n",
              "    </tr>\n",
              "  </tbody>\n",
              "</table>\n",
              "<p>5 rows × 31 columns</p>\n",
              "</div>\n",
              "    <div class=\"colab-df-buttons\">\n",
              "\n",
              "  <div class=\"colab-df-container\">\n",
              "    <button class=\"colab-df-convert\" onclick=\"convertToInteractive('df-6cb7b58a-c6cd-455c-a51a-2ec5bc531920')\"\n",
              "            title=\"Convert this dataframe to an interactive table.\"\n",
              "            style=\"display:none;\">\n",
              "\n",
              "  <svg xmlns=\"http://www.w3.org/2000/svg\" height=\"24px\" viewBox=\"0 -960 960 960\">\n",
              "    <path d=\"M120-120v-720h720v720H120Zm60-500h600v-160H180v160Zm220 220h160v-160H400v160Zm0 220h160v-160H400v160ZM180-400h160v-160H180v160Zm440 0h160v-160H620v160ZM180-180h160v-160H180v160Zm440 0h160v-160H620v160Z\"/>\n",
              "  </svg>\n",
              "    </button>\n",
              "\n",
              "  <style>\n",
              "    .colab-df-container {\n",
              "      display:flex;\n",
              "      gap: 12px;\n",
              "    }\n",
              "\n",
              "    .colab-df-convert {\n",
              "      background-color: #E8F0FE;\n",
              "      border: none;\n",
              "      border-radius: 50%;\n",
              "      cursor: pointer;\n",
              "      display: none;\n",
              "      fill: #1967D2;\n",
              "      height: 32px;\n",
              "      padding: 0 0 0 0;\n",
              "      width: 32px;\n",
              "    }\n",
              "\n",
              "    .colab-df-convert:hover {\n",
              "      background-color: #E2EBFA;\n",
              "      box-shadow: 0px 1px 2px rgba(60, 64, 67, 0.3), 0px 1px 3px 1px rgba(60, 64, 67, 0.15);\n",
              "      fill: #174EA6;\n",
              "    }\n",
              "\n",
              "    .colab-df-buttons div {\n",
              "      margin-bottom: 4px;\n",
              "    }\n",
              "\n",
              "    [theme=dark] .colab-df-convert {\n",
              "      background-color: #3B4455;\n",
              "      fill: #D2E3FC;\n",
              "    }\n",
              "\n",
              "    [theme=dark] .colab-df-convert:hover {\n",
              "      background-color: #434B5C;\n",
              "      box-shadow: 0px 1px 3px 1px rgba(0, 0, 0, 0.15);\n",
              "      filter: drop-shadow(0px 1px 2px rgba(0, 0, 0, 0.3));\n",
              "      fill: #FFFFFF;\n",
              "    }\n",
              "  </style>\n",
              "\n",
              "    <script>\n",
              "      const buttonEl =\n",
              "        document.querySelector('#df-6cb7b58a-c6cd-455c-a51a-2ec5bc531920 button.colab-df-convert');\n",
              "      buttonEl.style.display =\n",
              "        google.colab.kernel.accessAllowed ? 'block' : 'none';\n",
              "\n",
              "      async function convertToInteractive(key) {\n",
              "        const element = document.querySelector('#df-6cb7b58a-c6cd-455c-a51a-2ec5bc531920');\n",
              "        const dataTable =\n",
              "          await google.colab.kernel.invokeFunction('convertToInteractive',\n",
              "                                                    [key], {});\n",
              "        if (!dataTable) return;\n",
              "\n",
              "        const docLinkHtml = 'Like what you see? Visit the ' +\n",
              "          '<a target=\"_blank\" href=https://colab.research.google.com/notebooks/data_table.ipynb>data table notebook</a>'\n",
              "          + ' to learn more about interactive tables.';\n",
              "        element.innerHTML = '';\n",
              "        dataTable['output_type'] = 'display_data';\n",
              "        await google.colab.output.renderOutput(dataTable, element);\n",
              "        const docLink = document.createElement('div');\n",
              "        docLink.innerHTML = docLinkHtml;\n",
              "        element.appendChild(docLink);\n",
              "      }\n",
              "    </script>\n",
              "  </div>\n",
              "\n",
              "\n",
              "<div id=\"df-efb06a58-cd3c-4ed2-b098-aecde464fa1b\">\n",
              "  <button class=\"colab-df-quickchart\" onclick=\"quickchart('df-efb06a58-cd3c-4ed2-b098-aecde464fa1b')\"\n",
              "            title=\"Suggest charts\"\n",
              "            style=\"display:none;\">\n",
              "\n",
              "<svg xmlns=\"http://www.w3.org/2000/svg\" height=\"24px\"viewBox=\"0 0 24 24\"\n",
              "     width=\"24px\">\n",
              "    <g>\n",
              "        <path d=\"M19 3H5c-1.1 0-2 .9-2 2v14c0 1.1.9 2 2 2h14c1.1 0 2-.9 2-2V5c0-1.1-.9-2-2-2zM9 17H7v-7h2v7zm4 0h-2V7h2v10zm4 0h-2v-4h2v4z\"/>\n",
              "    </g>\n",
              "</svg>\n",
              "  </button>\n",
              "\n",
              "<style>\n",
              "  .colab-df-quickchart {\n",
              "      --bg-color: #E8F0FE;\n",
              "      --fill-color: #1967D2;\n",
              "      --hover-bg-color: #E2EBFA;\n",
              "      --hover-fill-color: #174EA6;\n",
              "      --disabled-fill-color: #AAA;\n",
              "      --disabled-bg-color: #DDD;\n",
              "  }\n",
              "\n",
              "  [theme=dark] .colab-df-quickchart {\n",
              "      --bg-color: #3B4455;\n",
              "      --fill-color: #D2E3FC;\n",
              "      --hover-bg-color: #434B5C;\n",
              "      --hover-fill-color: #FFFFFF;\n",
              "      --disabled-bg-color: #3B4455;\n",
              "      --disabled-fill-color: #666;\n",
              "  }\n",
              "\n",
              "  .colab-df-quickchart {\n",
              "    background-color: var(--bg-color);\n",
              "    border: none;\n",
              "    border-radius: 50%;\n",
              "    cursor: pointer;\n",
              "    display: none;\n",
              "    fill: var(--fill-color);\n",
              "    height: 32px;\n",
              "    padding: 0;\n",
              "    width: 32px;\n",
              "  }\n",
              "\n",
              "  .colab-df-quickchart:hover {\n",
              "    background-color: var(--hover-bg-color);\n",
              "    box-shadow: 0 1px 2px rgba(60, 64, 67, 0.3), 0 1px 3px 1px rgba(60, 64, 67, 0.15);\n",
              "    fill: var(--button-hover-fill-color);\n",
              "  }\n",
              "\n",
              "  .colab-df-quickchart-complete:disabled,\n",
              "  .colab-df-quickchart-complete:disabled:hover {\n",
              "    background-color: var(--disabled-bg-color);\n",
              "    fill: var(--disabled-fill-color);\n",
              "    box-shadow: none;\n",
              "  }\n",
              "\n",
              "  .colab-df-spinner {\n",
              "    border: 2px solid var(--fill-color);\n",
              "    border-color: transparent;\n",
              "    border-bottom-color: var(--fill-color);\n",
              "    animation:\n",
              "      spin 1s steps(1) infinite;\n",
              "  }\n",
              "\n",
              "  @keyframes spin {\n",
              "    0% {\n",
              "      border-color: transparent;\n",
              "      border-bottom-color: var(--fill-color);\n",
              "      border-left-color: var(--fill-color);\n",
              "    }\n",
              "    20% {\n",
              "      border-color: transparent;\n",
              "      border-left-color: var(--fill-color);\n",
              "      border-top-color: var(--fill-color);\n",
              "    }\n",
              "    30% {\n",
              "      border-color: transparent;\n",
              "      border-left-color: var(--fill-color);\n",
              "      border-top-color: var(--fill-color);\n",
              "      border-right-color: var(--fill-color);\n",
              "    }\n",
              "    40% {\n",
              "      border-color: transparent;\n",
              "      border-right-color: var(--fill-color);\n",
              "      border-top-color: var(--fill-color);\n",
              "    }\n",
              "    60% {\n",
              "      border-color: transparent;\n",
              "      border-right-color: var(--fill-color);\n",
              "    }\n",
              "    80% {\n",
              "      border-color: transparent;\n",
              "      border-right-color: var(--fill-color);\n",
              "      border-bottom-color: var(--fill-color);\n",
              "    }\n",
              "    90% {\n",
              "      border-color: transparent;\n",
              "      border-bottom-color: var(--fill-color);\n",
              "    }\n",
              "  }\n",
              "</style>\n",
              "\n",
              "  <script>\n",
              "    async function quickchart(key) {\n",
              "      const quickchartButtonEl =\n",
              "        document.querySelector('#' + key + ' button');\n",
              "      quickchartButtonEl.disabled = true;  // To prevent multiple clicks.\n",
              "      quickchartButtonEl.classList.add('colab-df-spinner');\n",
              "      try {\n",
              "        const charts = await google.colab.kernel.invokeFunction(\n",
              "            'suggestCharts', [key], {});\n",
              "      } catch (error) {\n",
              "        console.error('Error during call to suggestCharts:', error);\n",
              "      }\n",
              "      quickchartButtonEl.classList.remove('colab-df-spinner');\n",
              "      quickchartButtonEl.classList.add('colab-df-quickchart-complete');\n",
              "    }\n",
              "    (() => {\n",
              "      let quickchartButtonEl =\n",
              "        document.querySelector('#df-efb06a58-cd3c-4ed2-b098-aecde464fa1b button');\n",
              "      quickchartButtonEl.style.display =\n",
              "        google.colab.kernel.accessAllowed ? 'block' : 'none';\n",
              "    })();\n",
              "  </script>\n",
              "</div>\n",
              "\n",
              "    </div>\n",
              "  </div>\n"
            ]
          },
          "metadata": {},
          "execution_count": 12
        }
      ],
      "source": [
        "credit_card_data.head()"
      ]
    },
    {
      "cell_type": "code",
      "execution_count": 13,
      "metadata": {
        "colab": {
          "base_uri": "https://localhost:8080/"
        },
        "id": "m45d62WBuSAq",
        "outputId": "95a4da9e-8061-47ef-9eae-54e899f49c45"
      },
      "outputs": [
        {
          "output_type": "execute_result",
          "data": {
            "text/plain": [
              "(2923, 31)"
            ]
          },
          "metadata": {},
          "execution_count": 13
        }
      ],
      "source": [
        "credit_card_data.shape"
      ]
    },
    {
      "cell_type": "code",
      "execution_count": 14,
      "metadata": {
        "colab": {
          "base_uri": "https://localhost:8080/"
        },
        "id": "O4FqP9vJu2I5",
        "outputId": "99557402-f7a3-44ee-b6b6-b4b67e089eda"
      },
      "outputs": [
        {
          "output_type": "stream",
          "name": "stdout",
          "text": [
            "<class 'pandas.core.frame.DataFrame'>\n",
            "RangeIndex: 2923 entries, 0 to 2922\n",
            "Data columns (total 31 columns):\n",
            " #   Column  Non-Null Count  Dtype  \n",
            "---  ------  --------------  -----  \n",
            " 0   Time    2923 non-null   int64  \n",
            " 1   V1      2923 non-null   float64\n",
            " 2   V2      2923 non-null   float64\n",
            " 3   V3      2923 non-null   float64\n",
            " 4   V4      2923 non-null   float64\n",
            " 5   V5      2923 non-null   float64\n",
            " 6   V6      2923 non-null   float64\n",
            " 7   V7      2923 non-null   float64\n",
            " 8   V8      2923 non-null   float64\n",
            " 9   V9      2923 non-null   float64\n",
            " 10  V10     2923 non-null   float64\n",
            " 11  V11     2923 non-null   float64\n",
            " 12  V12     2923 non-null   float64\n",
            " 13  V13     2923 non-null   float64\n",
            " 14  V14     2923 non-null   float64\n",
            " 15  V15     2923 non-null   float64\n",
            " 16  V16     2923 non-null   float64\n",
            " 17  V17     2923 non-null   float64\n",
            " 18  V18     2923 non-null   float64\n",
            " 19  V19     2923 non-null   float64\n",
            " 20  V20     2923 non-null   float64\n",
            " 21  V21     2923 non-null   float64\n",
            " 22  V22     2923 non-null   float64\n",
            " 23  V23     2923 non-null   float64\n",
            " 24  V24     2923 non-null   float64\n",
            " 25  V25     2923 non-null   float64\n",
            " 26  V26     2923 non-null   float64\n",
            " 27  V27     2923 non-null   float64\n",
            " 28  V28     2922 non-null   float64\n",
            " 29  Amount  2922 non-null   float64\n",
            " 30  Class   2922 non-null   float64\n",
            "dtypes: float64(30), int64(1)\n",
            "memory usage: 708.0 KB\n"
          ]
        }
      ],
      "source": [
        "credit_card_data.info()"
      ]
    },
    {
      "cell_type": "code",
      "execution_count": 15,
      "metadata": {
        "colab": {
          "base_uri": "https://localhost:8080/"
        },
        "id": "gbGWEBHgu8NF",
        "outputId": "5d45055d-dcb7-4386-af30-024d7bbf5e9b"
      },
      "outputs": [
        {
          "output_type": "execute_result",
          "data": {
            "text/plain": [
              "0.0    2920\n",
              "1.0       2\n",
              "Name: Class, dtype: int64"
            ]
          },
          "metadata": {},
          "execution_count": 15
        }
      ],
      "source": [
        "credit_card_data['Class'].value_counts()"
      ]
    },
    {
      "cell_type": "code",
      "execution_count": 16,
      "metadata": {
        "id": "Uquzvh2lxwSC"
      },
      "outputs": [],
      "source": [
        "credit_card_data.dropna(inplace=True)"
      ]
    },
    {
      "cell_type": "code",
      "execution_count": 17,
      "metadata": {
        "colab": {
          "base_uri": "https://localhost:8080/"
        },
        "id": "jxB3U3r3x_vi",
        "outputId": "60e1c9c9-08cf-4dc8-da50-c73a24c640d7"
      },
      "outputs": [
        {
          "output_type": "execute_result",
          "data": {
            "text/plain": [
              "Time      0\n",
              "V1        0\n",
              "V2        0\n",
              "V3        0\n",
              "V4        0\n",
              "V5        0\n",
              "V6        0\n",
              "V7        0\n",
              "V8        0\n",
              "V9        0\n",
              "V10       0\n",
              "V11       0\n",
              "V12       0\n",
              "V13       0\n",
              "V14       0\n",
              "V15       0\n",
              "V16       0\n",
              "V17       0\n",
              "V18       0\n",
              "V19       0\n",
              "V20       0\n",
              "V21       0\n",
              "V22       0\n",
              "V23       0\n",
              "V24       0\n",
              "V25       0\n",
              "V26       0\n",
              "V27       0\n",
              "V28       0\n",
              "Amount    0\n",
              "Class     0\n",
              "dtype: int64"
            ]
          },
          "metadata": {},
          "execution_count": 17
        }
      ],
      "source": [
        "credit_card_data.isnull().sum()"
      ]
    },
    {
      "cell_type": "code",
      "execution_count": 18,
      "metadata": {
        "id": "KlpHu9iAv3aO"
      },
      "outputs": [],
      "source": [
        "X = credit_card_data.drop(columns='Class', axis=1)\n",
        "Y = credit_card_data['Class']"
      ]
    },
    {
      "cell_type": "code",
      "execution_count": 19,
      "metadata": {
        "colab": {
          "base_uri": "https://localhost:8080/"
        },
        "id": "G2TynxHXwcvn",
        "outputId": "abea8178-3e3d-41e4-90d4-77287ffe5c76"
      },
      "outputs": [
        {
          "output_type": "stream",
          "name": "stdout",
          "text": [
            "      Time        V1        V2        V3        V4        V5        V6  \\\n",
            "0        0 -1.359807 -0.072781  2.536347  1.378155 -0.338321  0.462388   \n",
            "1        0  1.191857  0.266151  0.166480  0.448154  0.060018 -0.082361   \n",
            "2        1 -1.358354 -1.340163  1.773209  0.379780 -0.503198  1.800499   \n",
            "3        1 -0.966272 -0.185226  1.792993 -0.863291 -0.010309  1.247203   \n",
            "4        2 -1.158233  0.877737  1.548718  0.403034 -0.407193  0.095921   \n",
            "...    ...       ...       ...       ...       ...       ...       ...   \n",
            "2917  2465  0.928249 -0.829349  0.840156  0.187539 -1.164249  0.031725   \n",
            "2918  2466  1.116144  0.513875  0.866488  2.512308 -0.262168 -0.268716   \n",
            "2919  2466  0.845195 -0.870368  0.282338 -0.626082 -0.878119 -0.475066   \n",
            "2920  2468  1.168080  0.230076  0.387696  0.735736 -0.414904 -0.801379   \n",
            "2921  2469  1.217259  0.190830  0.244988  0.700570 -0.244268 -0.726727   \n",
            "\n",
            "            V7        V8        V9  ...       V20       V21       V22  \\\n",
            "0     0.239599  0.098698  0.363787  ...  0.251412 -0.018307  0.277838   \n",
            "1    -0.078803  0.085102 -0.255425  ... -0.069083 -0.225775 -0.638672   \n",
            "2     0.791461  0.247676 -1.514654  ...  0.524980  0.247998  0.771679   \n",
            "3     0.237609  0.377436 -1.387024  ... -0.208038 -0.108300  0.005274   \n",
            "4     0.592941 -0.270533  0.817739  ...  0.408542 -0.009431  0.798278   \n",
            "...        ...       ...       ...  ...       ...       ...       ...   \n",
            "2917 -0.643227  0.185039  0.748191  ...  0.211827  0.180597  0.290154   \n",
            "2918 -0.001428  0.064595 -0.637979  ... -0.244714 -0.208885 -0.690477   \n",
            "2919 -0.030817 -0.100041  1.453727  ...  0.286052  0.151335  0.310226   \n",
            "2920 -0.015033 -0.050620  0.107392  ... -0.143508 -0.239554 -0.716797   \n",
            "2921  0.195373 -0.172495  0.077152  ... -0.146490 -0.015131  0.173487   \n",
            "\n",
            "           V23       V24       V25       V26       V27       V28  Amount  \n",
            "0    -0.110474  0.066928  0.128539 -0.189115  0.133558 -0.021053  149.62  \n",
            "1     0.101288 -0.339846  0.167170  0.125895 -0.008983  0.014724    2.69  \n",
            "2     0.909412 -0.689281 -0.327642 -0.139097 -0.055353 -0.059752  378.66  \n",
            "3    -0.190321 -1.175575  0.647376 -0.221929  0.062723  0.061458  123.50  \n",
            "4    -0.137458  0.141267 -0.206010  0.502292  0.219422  0.215153   69.99  \n",
            "...        ...       ...       ...       ...       ...       ...     ...  \n",
            "2917 -0.200090  0.080135  0.153861  1.098905 -0.070703  0.025156  150.00  \n",
            "2918  0.224231  0.331436  0.103843 -0.254106  0.004526  0.027106    4.37  \n",
            "2919 -0.254405  0.139810  0.555793 -0.620068  0.056170  0.059129  200.24  \n",
            "2920  0.197339  0.342135  0.072865  0.104995 -0.012694  0.031213   12.99  \n",
            "2921 -0.042304  0.473833  0.562555  0.563152 -0.032448  0.001320    0.00  \n",
            "\n",
            "[2922 rows x 30 columns]\n"
          ]
        }
      ],
      "source": [
        "print(X)"
      ]
    },
    {
      "cell_type": "code",
      "execution_count": 20,
      "metadata": {
        "colab": {
          "base_uri": "https://localhost:8080/"
        },
        "id": "03KRmv86wgcs",
        "outputId": "7b65fcf5-41fe-46ce-f5c8-dbf4b7afde6b"
      },
      "outputs": [
        {
          "output_type": "stream",
          "name": "stdout",
          "text": [
            "0       0.0\n",
            "1       0.0\n",
            "2       0.0\n",
            "3       0.0\n",
            "4       0.0\n",
            "       ... \n",
            "2917    0.0\n",
            "2918    0.0\n",
            "2919    0.0\n",
            "2920    0.0\n",
            "2921    0.0\n",
            "Name: Class, Length: 2922, dtype: float64\n"
          ]
        }
      ],
      "source": [
        "print(Y)"
      ]
    },
    {
      "cell_type": "markdown",
      "metadata": {
        "id": "N9TALOi1mec6"
      },
      "source": [
        "**Data Exploration**"
      ]
    },
    {
      "cell_type": "code",
      "execution_count": 21,
      "metadata": {
        "colab": {
          "base_uri": "https://localhost:8080/",
          "height": 542
        },
        "id": "vsWYqCgQwsjy",
        "outputId": "f77a3d93-232e-4ca7-b467-58486221a0ad"
      },
      "outputs": [
        {
          "output_type": "display_data",
          "data": {
            "text/html": [
              "<html>\n",
              "<head><meta charset=\"utf-8\" /></head>\n",
              "<body>\n",
              "    <div>            <script src=\"https://cdnjs.cloudflare.com/ajax/libs/mathjax/2.7.5/MathJax.js?config=TeX-AMS-MML_SVG\"></script><script type=\"text/javascript\">if (window.MathJax && window.MathJax.Hub && window.MathJax.Hub.Config) {window.MathJax.Hub.Config({SVG: {font: \"STIX-Web\"}});}</script>                <script type=\"text/javascript\">window.PlotlyConfig = {MathJaxConfig: 'local'};</script>\n",
              "        <script charset=\"utf-8\" src=\"https://cdn.plot.ly/plotly-2.24.1.min.js\"></script>                <div id=\"e089089f-4c46-4c9d-9d75-1e601620d5a5\" class=\"plotly-graph-div\" style=\"height:525px; width:100%;\"></div>            <script type=\"text/javascript\">                                    window.PLOTLYENV=window.PLOTLYENV || {};                                    if (document.getElementById(\"e089089f-4c46-4c9d-9d75-1e601620d5a5\")) {                    Plotly.newPlot(                        \"e089089f-4c46-4c9d-9d75-1e601620d5a5\",                        [{\"legendgroup\":\"Not Fraud\",\"marker\":{\"color\":\"rgb(31, 119, 180)\"},\"mode\":\"lines\",\"name\":\"Not Fraud\",\"showlegend\":true,\"x\":[0.0,4.938,9.876,14.814,19.752,24.69,29.628,34.566,39.504,44.442,49.38,54.318,59.256,64.194,69.132,74.07,79.008,83.946,88.884,93.822,98.76,103.698,108.636,113.574,118.512,123.45,128.388,133.326,138.264,143.202,148.14,153.078,158.016,162.954,167.892,172.83,177.768,182.706,187.644,192.582,197.52,202.458,207.396,212.334,217.272,222.21,227.148,232.086,237.024,241.962,246.9,251.838,256.776,261.714,266.652,271.59,276.528,281.466,286.404,291.342,296.28,301.218,306.156,311.094,316.032,320.97,325.908,330.846,335.784,340.722,345.66,350.598,355.536,360.474,365.412,370.35,375.288,380.226,385.164,390.102,395.04,399.978,404.916,409.854,414.792,419.73,424.668,429.606,434.544,439.482,444.42,449.358,454.296,459.234,464.172,469.11,474.048,478.986,483.924,488.862,493.8,498.738,503.676,508.614,513.552,518.49,523.428,528.366,533.304,538.242,543.18,548.118,553.056,557.994,562.932,567.87,572.808,577.746,582.684,587.622,592.56,597.498,602.436,607.374,612.312,617.25,622.188,627.126,632.064,637.002,641.94,646.878,651.816,656.754,661.692,666.63,671.568,676.506,681.444,686.382,691.32,696.258,701.196,706.134,711.072,716.01,720.948,725.886,730.824,735.762,740.7,745.638,750.576,755.514,760.452,765.39,770.328,775.266,780.204,785.142,790.08,795.018,799.956,804.894,809.832,814.77,819.708,824.646,829.584,834.522,839.46,844.398,849.336,854.274,859.212,864.15,869.088,874.026,878.964,883.902,888.84,893.778,898.716,903.654,908.592,913.53,918.468,923.406,928.344,933.282,938.22,943.158,948.096,953.034,957.972,962.91,967.848,972.786,977.724,982.662,987.6,992.538,997.476,1002.414,1007.352,1012.29,1017.228,1022.166,1027.104,1032.042,1036.98,1041.918,1046.856,1051.794,1056.732,1061.67,1066.608,1071.546,1076.484,1081.422,1086.36,1091.298,1096.236,1101.174,1106.112,1111.05,1115.988,1120.926,1125.864,1130.802,1135.74,1140.678,1145.616,1150.554,1155.492,1160.43,1165.368,1170.306,1175.244,1180.182,1185.12,1190.058,1194.996,1199.934,1204.872,1209.81,1214.748,1219.686,1224.624,1229.562,1234.5,1239.438,1244.376,1249.314,1254.252,1259.19,1264.128,1269.066,1274.004,1278.942,1283.88,1288.818,1293.756,1298.694,1303.632,1308.57,1313.508,1318.446,1323.384,1328.322,1333.26,1338.198,1343.136,1348.074,1353.012,1357.95,1362.888,1367.826,1372.764,1377.702,1382.64,1387.578,1392.516,1397.454,1402.392,1407.33,1412.268,1417.206,1422.144,1427.082,1432.02,1436.958,1441.896,1446.834,1451.772,1456.71,1461.648,1466.586,1471.524,1476.462,1481.4,1486.338,1491.276,1496.214,1501.152,1506.09,1511.028,1515.966,1520.904,1525.842,1530.78,1535.718,1540.656,1545.594,1550.532,1555.47,1560.408,1565.346,1570.284,1575.222,1580.16,1585.098,1590.036,1594.974,1599.912,1604.85,1609.788,1614.726,1619.664,1624.602,1629.54,1634.478,1639.416,1644.354,1649.292,1654.23,1659.168,1664.106,1669.044,1673.982,1678.92,1683.858,1688.796,1693.734,1698.672,1703.61,1708.548,1713.486,1718.424,1723.362,1728.3,1733.238,1738.176,1743.114,1748.052,1752.99,1757.928,1762.866,1767.804,1772.742,1777.68,1782.618,1787.556,1792.494,1797.432,1802.37,1807.308,1812.246,1817.184,1822.122,1827.06,1831.998,1836.936,1841.874,1846.812,1851.75,1856.688,1861.626,1866.564,1871.502,1876.44,1881.378,1886.316,1891.254,1896.192,1901.13,1906.068,1911.006,1915.944,1920.882,1925.82,1930.758,1935.696,1940.634,1945.572,1950.51,1955.448,1960.386,1965.324,1970.262,1975.2,1980.138,1985.076,1990.014,1994.952,1999.89,2004.828,2009.766,2014.704,2019.642,2024.58,2029.518,2034.456,2039.394,2044.332,2049.27,2054.208,2059.146,2064.084,2069.022,2073.96,2078.898,2083.836,2088.774,2093.712,2098.65,2103.588,2108.526,2113.464,2118.402,2123.34,2128.278,2133.216,2138.154,2143.092,2148.03,2152.968,2157.906,2162.844,2167.782,2172.72,2177.658,2182.596,2187.534,2192.472,2197.41,2202.348,2207.286,2212.224,2217.162,2222.1,2227.038,2231.976,2236.914,2241.852,2246.79,2251.728,2256.666,2261.604,2266.542,2271.48,2276.418,2281.356,2286.294,2291.232,2296.17,2301.108,2306.046,2310.984,2315.922,2320.86,2325.798,2330.736,2335.674,2340.612,2345.55,2350.488,2355.426,2360.364,2365.302,2370.24,2375.178,2380.116,2385.054,2389.992,2394.93,2399.868,2404.806,2409.744,2414.682,2419.62,2424.558,2429.496,2434.434,2439.372,2444.31,2449.248,2454.186,2459.124,2464.062],\"xaxis\":\"x\",\"y\":[0.00024408039659192082,0.0002504021328896097,0.0002566875672750537,0.00026292850887631283,0.0002691169162353363,0.00027524492800860834,0.0002813048926171168,0.00028728939665878235,0.00029319129190678503,0.00029900372072922624,0.0003047201397788051,0.0003103343418159985,0.00031584047554490566,0.0003212330633578077,0.0003265070169019679,0.0003316576504003907,0.0003366806916768541,0.0003415722908542084,0.00034632902671378465,0.00035094791072225873,0.00035542638875053523,0.0003597623405268019,0.00036395407688273547,0.0003680003348678336,0.0003719002708216396,0.0003756534515073387,0.0003792598434225177,0.0003827198004138035,0.00038603404973148076,0.0003892036766680546,0.00039223010793092394,0.00039511509390394373,0.0003978606899555986,0.00040046923695291614,0.0004029433411399202,0.000405285853537849,0.0004074998490209905,0.00040958860521763806,0.00041155558137973767,0.00041340439735797045,0.0004151388128110316,0.0004167627067690823,0.00041828005766177383,0.00041969492391110487,0.0004210114251788109,0.00042223372434700023,0.00042336601029976256,0.00042441248156227567,0.0004253773308430904,0.0004262647305143184,0.00042707881905417643,0.0004278236884663124,0.0004285033726808731,0.00042912183693354235,0.00042968296811058293,0.00043019056604066887,0.00043064833570758575,0.00043105988035225493,0.0004314286954275791,0.0004317581633655491,0.0004320515491128273,0.0004323119963886393,0.0004325425246171339,0.000432746026485576,0.00043292526607947775,0.00043308287754631323,0.0004332213642405282,0.00043334309830413007,0.0004334503206391655,0.00043354514123091864,0.0004336295397833671,0.00043370536663142324,0.0004337743438977777,0.0004338380668653741,0.00043389800553999213,0.0004339555063807754,0.00043401179417981625,0.000434067974075195,0.00043412503368490404,0.0004341838453519772,0.00043424516849384473,0.0004343096520513953,0.0004343778370353643,0.0004344501591696636,0.0004345269516328419,0.0004346084479003017,0.0004346947846909301,0.00043478600502266874,0.00043488206138207834,0.000434982819013228,0.0004350880593313833,0.0004351974834667248,0.0004353107159430139,0.00043542730849557533,0.0004355467440322185,0.00043566844073990665,0.00043579175633892084,0.0004359159924851813,0.0004360403993202408,0.00043616418016701413,0.0004362864963681197,0.00043640647226218066,0.0004365232002919761,0.00043663574623688077,0.0004367431545604878,0.00043684445386270163,0.00043693866242422284,0.0004370247938295496,0.00043710186265330655,0.00043716889019312135,0.0004372249102306993,0.00043726897480141113,0.0004373001599512551,0.00043731757145868506,0.00043732035049752705,0.0004373076792160396,0.00043727878620601195,0.00043723295183490974,0.0004371695134130867,0.0004370878701675164,0.00043698748799284547,0.00043686790395030346,0.0004367287304848017,0.0004365696593306365,0.0004363904650765808,0.00043619100836163696,0.0004359712386736588,0.0004357311967241048,0.00043547101637369634,0.0004351909260854136,0.0004348912498833493,0.00043457240779828937,0.00043423491578351654,0.00043387938508729953,0.0004335065210718018,0.00043311712147158817,0.00043271207408866936,0.00043229235392503834,0.0004318590197577492,0.0004314132101658987,0.00043095613902333535,0.00043048909047534205,0.00043001341342208485,0.00042953051553609153,0.0004290418568454213,0.0004285489429184603,0.000428053317690362,0.0004275565559750162,0.00042706025571000926,0.00042656602998518574,0.00042607549890841137,0.0004255902813644002,0.00042511198672451486,0.000424642206566844,0.00042418250646680485,0.00042373441791882107,0.00042329943044943,0.0004228789839813955,0.00042247446150690614,0.00042208718212607916,0.00042171839450430484,0.00042136927079894,0.0004210409011021987,0.00042073428844286874,0.0004204503443850079,0.0004201898852566382,0.0004199536290361479,0.0004197421929184204,0.0004195560915767192,0.00041939573613034356,0.000419261433821728,0.00041915338840044854,0.0004190717012052859,0.00041901637292932607,0.00041898730604708037,0.0004189843078766987,0.0004190070942449252,0.0004190552937171527,0.0004191284523502237,0.000419226038921117,0.00041934745058098136,0.00041949201888043784,0.0004196590161093785,0.00041984766189229086,0.0004200571299784792,0.00042028655516556556,0.00042053504029433247,0.0004208016632530954,0.0004210854839308042,0.00042138555105929924,0.0004217009088873281,0.00042203060363137264,0.00042237368965138936,0.00042272923530311624,0.0004230963284225001,0.0004234740814021022,0.00042386163582403826,0.00042425816661885527,0.000424662885724912,0.00042507504522812676,0.00042549393996735323,0.00042591890959608683,0.0004263493400966813,0.00042678466474855046,0.0004272243645572084,0.00042766796815600373,0.00042811505119729983,0.000428565235254466,0.000429018186260358,0.0004294736125118781,0.00042993126227379924,0.00043039092101819113,0.0004308524083385061,0.00043131557457960225,0.00043178029722680615,0.00043224647709837275,0.00043271403438651426,0.0004331829045924395,0.0004336530344006988,0.0004341243775374177,0.00043459689065586887,0.0004350705292912704,0.0004355452439246473,0.00043602097619321184,0.00043649765528192355,0.00043697519452784423,0.00043745348826542226,0.00043793240893728045,0.0004384118044912739,0.00043889149608046036,0.0004393712760787105,0.0004398509064204183,0.0004403301172686486,0.00044080860601197904,0.00044128603658627794,0.00044176203911373526,0.00044223620984788103,0.0004427081114097941,0.0004431772732976052,0.0004436431926484409,0.00044410533522957595,0.0004445631366332745,0.00044501600364814663,0.00044546331577852963,0.00044590442688236903,0.00044633866689780565,0.0004467653436284928,0.0004471837445581318,0.0004475931386655673,0.00044799277821300226,0.0004483819004815095,0.0004487597294300508,0.00044912547725652914,0.00044947834584197215,0.0004498175280619501,0.00045014220895224933,0.00045045156671928444,0.0004507447735889804,0.0004510209964913834,0.0004512793975817581,0.00045151913460238295,0.00045173936109265355,0.0004519392264584047,0.0004521178759144429,0.00045227445031726423,0.00045240808590747304,0.00045251791398397975,0.0004526030605339241,0.00045266264584417317,0.0004526957841215309,0.000452701583149759,0.00045267914401219143,0.0004526275609088471,0.00045254592109675936,0.00045243330498164695,0.00045228878638807913,0.0004521114330338284,0.0004519003072324909,0.0004516544668462736,0.0004513729665085417,0.00045105485913296073,0.0004506991977232264,0.000450305037494133,0.0004498714383114489,0.0004493974674545326,0.00044888220270204,0.00044832473573735364,0.00044772417586668703,0.00044707965403903405,0.00044639032715350417,0.0004456553826359066,0.00044487404326303107,0.0004440455722095946,0.00044316927828974844,0.00044224452136197145,0.00044127071786348286,0.0004402473464377852,0.0004391739536167458,0.00043805015951672605,0.0004368756635066741,0.00043565024980488635,0.00043437379296019815,0.0004330462631728841,0.00043166773141039677,0.00043023837427325925,0.00042875847856710674,0.00042722844553779317,0.0004256487947279304,0.0004240201674149334,0.0004223433295928104,0.0004206191744623978,0.00041884872439759636,0.0004170331323583247,0.0004151736827243923,0.0004132717915282443,0.00041132900606858427,0.0004093470038911093,0.0004073275911271276,0.0004052727001853468,0.0004031843867970205,0.0004010648264193684,0.00039891631000720174,0.00039674123916745406,0.0003945421207163166,0.00039232156066335,0.0003900822576515846,0.0003878269958870913,0.0003855586375957004,0.000383280115048405,0.0003809944222006576,0.0003787046059939092,0.00037641375737055465,0.0003741250020557775,0.00037184149116165066,0.00036956639167015274,0.0003673028768525242,0.0003650541166826682,0.000362823268301892,0.0003606134665913701,0.00035842781490720023,0.0003562693760308492,0.0003541411633851458,0.0003520461325628319,0.0003499871732110407,0.0003479671013109075,0.0003459886518871054,0.0003440544721771054,0.00034216711528487246,0.00034032903433826514,0.00033854257716381766,0.0003368099814869418,0.00033513337065988017,0.00033351474991408654,0.0003319560031282416,0.0003304588900977934,0.00032902504428691673,0.000327655971039119,0.00032635304621850394,0.000325117515249959,0.00032395049252332983,0.00032285296112406867,0.00032182577285079923,0.00032086964847907165,0.00031998517822980966,0.00031917282240121223,0.00031843291212351734,0.0003177656501976749,0.000317171111981053,0.000316649246286202,0.00031619987626211064,0.00031582270023140357,0.0003155172924614445,0.0003152831038522447,0.0003151194625293764,0.0003150255743356772,0.00031500052322129194,0.0003150432715374503,0.00031515266024527454,0.0003153274090566356,0.00031556611652967234,0.00031586726014687464,0.00031622919640853056,0.0003166501609787291,0.0003171282689250813,0.0003176615150964394,0.00031824777468556815,0.00031888480402542547,0.00031957024166874695,0.00032030160980075107,0.0003210763160341068,0.00032189165563365407,0.00032274481421595646,0.00032363287096541743,0.0003245528024044955,0.0003255014867506736,0.0003264757088870559,0.0003274721659671178,0.0003284874736671948,0.0003295181730926916,0.0003305607383361868,0.0003316115846772484,0.00033266707740537495,0.00033372354123886456,0.0003347772703038696,0.00033582453862945064,0.0003368616111062411,0.00033788475484852363,0.00033889025089213774,0.0003398744061538632,0.0003408335655718529,0.0003417641243412955,0.0003426625401551083,0.00034352534535585054,0.0003443491589025526,0.00034513069805465295,0.00034586678967479974,0.00034655438105302296,0.00034719055015654184,0.0003477725152124493,0.0003482976435345146,0.0003487634595104792,0.00034916765167227924,0.00034950807877881713,0.00034978277484878846,0.0003499899530899329,0.0003501280086806468,0.0003501955203699608,0.0003501912508727045,0.0003501141460476694,0.0003499633328580839,0.00034973811612519127,0.00034943797409740535,0.00034906255286904614,0.0003486116596939757,0.00034808525525052204,0.00034748344492461564,0.0003468064691881132,0.00034605469315864945,0.0003452285954359463,0.00034432875631724746,0.0003433558455013674,0.0003423106093965911,0.00034119385815240043,0.0003400064525385441,0.0003387492907973513,0.0003374232955963821,0.00033602940120846603,0.00033456854104486927,0.000333041635664841,0.00033144958138106817,0.0003297932395756548,0.00032807342683518483,0.0003262909060063118,0.000324446378265135,0.0003225404762844759,0.00032057375857321086,0.00031854670505096396,0.0003164597139100426,0.0003143130998043543,0.0003121070933925744,0.0003098418422498621,0.00030751741314931423,0.00030513379570104224,0.0003026909073235451,0.0003001885995088665,0.00029762666533018905,0.00029500484812801776,0.0002923228512991329,0.00028958034910109515,0.0002867769983745171,0.00028391245107548847,0.0002809863675017421,0.00027799843008833577,0.00027494835764198266,0.00027183591987766373,0.00026866095211698177,0.00026542337000480136,0.0002621231840991859,0.00025876051418949065,0.0002553356031986874,0.00025184883052863175,0.0002483007247109602,0.00024469197523167694,0.00024102344340408912,0.00023729617217267473,0.0002335113947394898,0.00022967054191489579,0.00022577524810549223,0.0002218273558641828,0.00021782891894006693,0.00021378220377928927,0.00020968968944188901,0.00020555406591398924,0.00020137823080916507,0.00019716528446742936,0.00019291852347473105,0.00018864143264017295,0.0001843376754820232,0.00018001108328696884,0.00017566564281979458],\"yaxis\":\"y\",\"type\":\"scatter\"},{\"legendgroup\":\"Fraud\",\"marker\":{\"color\":\"rgb(255, 127, 14)\"},\"mode\":\"lines\",\"name\":\"Fraud\",\"showlegend\":true,\"x\":[406.0,406.132,406.264,406.396,406.528,406.66,406.792,406.924,407.056,407.188,407.32,407.452,407.584,407.716,407.848,407.98,408.112,408.244,408.376,408.508,408.64,408.772,408.904,409.036,409.168,409.3,409.432,409.564,409.696,409.828,409.96,410.092,410.224,410.356,410.488,410.62,410.752,410.884,411.016,411.148,411.28,411.412,411.544,411.676,411.808,411.94,412.072,412.204,412.336,412.468,412.6,412.732,412.864,412.996,413.128,413.26,413.392,413.524,413.656,413.788,413.92,414.052,414.184,414.316,414.448,414.58,414.712,414.844,414.976,415.108,415.24,415.372,415.504,415.636,415.76800000000003,415.9,416.032,416.164,416.296,416.428,416.56,416.692,416.824,416.956,417.088,417.22,417.352,417.484,417.616,417.748,417.88,418.012,418.144,418.276,418.408,418.54,418.672,418.804,418.936,419.068,419.2,419.332,419.464,419.596,419.728,419.86,419.992,420.124,420.256,420.388,420.52,420.652,420.784,420.916,421.048,421.18,421.312,421.444,421.576,421.708,421.84,421.972,422.104,422.236,422.368,422.5,422.632,422.764,422.896,423.028,423.16,423.29200000000003,423.424,423.556,423.688,423.82,423.952,424.084,424.216,424.348,424.48,424.612,424.744,424.876,425.008,425.14,425.272,425.404,425.536,425.668,425.8,425.932,426.064,426.196,426.328,426.46,426.592,426.724,426.856,426.988,427.12,427.252,427.384,427.516,427.648,427.78,427.912,428.044,428.176,428.308,428.44,428.572,428.704,428.836,428.968,429.1,429.23199999999997,429.364,429.496,429.628,429.76,429.892,430.024,430.156,430.288,430.42,430.552,430.684,430.816,430.948,431.08,431.212,431.344,431.476,431.608,431.74,431.872,432.004,432.136,432.26800000000003,432.4,432.532,432.664,432.796,432.928,433.06,433.192,433.324,433.456,433.588,433.72,433.852,433.984,434.116,434.248,434.38,434.512,434.644,434.776,434.908,435.04,435.172,435.304,435.436,435.568,435.7,435.832,435.964,436.096,436.228,436.36,436.492,436.624,436.756,436.888,437.02,437.152,437.284,437.416,437.548,437.68,437.812,437.944,438.076,438.20799999999997,438.34000000000003,438.472,438.604,438.736,438.868,439.0,439.132,439.264,439.396,439.528,439.65999999999997,439.79200000000003,439.924,440.056,440.188,440.32,440.452,440.584,440.716,440.848,440.98,441.112,441.244,441.376,441.508,441.64,441.772,441.904,442.036,442.168,442.3,442.432,442.564,442.696,442.828,442.96,443.092,443.224,443.356,443.488,443.62,443.752,443.884,444.016,444.148,444.28,444.412,444.544,444.676,444.808,444.94,445.072,445.204,445.336,445.468,445.6,445.73199999999997,445.864,445.996,446.128,446.26,446.392,446.524,446.656,446.788,446.92,447.052,447.18399999999997,447.31600000000003,447.448,447.58,447.712,447.844,447.976,448.108,448.24,448.372,448.504,448.636,448.76800000000003,448.9,449.032,449.164,449.296,449.428,449.56,449.692,449.824,449.956,450.088,450.22,450.352,450.484,450.616,450.748,450.88,451.012,451.144,451.276,451.408,451.54,451.672,451.804,451.936,452.068,452.2,452.332,452.464,452.596,452.728,452.86,452.992,453.124,453.256,453.388,453.52,453.652,453.784,453.916,454.048,454.18,454.312,454.444,454.576,454.70799999999997,454.84000000000003,454.972,455.104,455.236,455.368,455.5,455.632,455.764,455.896,456.028,456.15999999999997,456.29200000000003,456.424,456.556,456.688,456.82,456.952,457.084,457.216,457.348,457.48,457.612,457.744,457.876,458.008,458.14,458.272,458.404,458.536,458.668,458.8,458.932,459.064,459.196,459.328,459.46,459.592,459.724,459.856,459.988,460.12,460.252,460.384,460.516,460.648,460.78,460.912,461.044,461.176,461.308,461.44,461.572,461.704,461.836,461.968,462.1,462.23199999999997,462.364,462.496,462.628,462.76,462.892,463.024,463.156,463.288,463.42,463.552,463.68399999999997,463.81600000000003,463.948,464.08,464.212,464.344,464.476,464.608,464.74,464.872,465.004,465.136,465.26800000000003,465.4,465.532,465.664,465.796,465.928,466.06,466.192,466.324,466.456,466.588,466.72,466.852,466.984,467.116,467.248,467.38,467.512,467.644,467.776,467.908,468.04,468.172,468.304,468.436,468.568,468.7,468.832,468.964,469.096,469.228,469.36,469.492,469.624,469.756,469.888,470.02,470.152,470.284,470.416,470.548,470.68,470.812,470.944,471.076,471.20799999999997,471.34000000000003,471.472,471.604,471.736,471.868],\"xaxis\":\"x\",\"y\":[0.006221930920883331,0.0062288422209511255,0.006235724370929344,0.006242577345596686,0.006249401120507893,0.006256195671990215,0.006262960977139755,0.006269697013817832,0.006276403760647198,0.0062830811970082815,0.006289729303035315,0.006296348059612444,0.006302937448369751,0.0063094974516792485,0.006316028052650808,0.006322529235128012,0.006329000983684005,0.006335443283617226,0.006341856120947144,0.006348239482409908,0.006354593355453953,0.00636091772823555,0.006367212589614319,0.006373477929148671,0.006379713737091222,0.006385920004384139,0.006392096722654426,0.006398243884209214,0.006404361482030926,0.0064104495097724624,0.006416507961752299,0.006422536832949551,0.006428536118998982,0.006434505816185992,0.0064404459214415215,0.006446356432336946,0.006452237347078912,0.006458088664504111,0.006463910384074057,0.006469702505869765,0.006475465030586433,0.006481197959528061,0.006486901294602034,0.0064925750383136496,0.006498219193760643,0.006503833764627631,0.006509418755180544,0.00651497417026102,0.006520500015280729,0.006525996296215714,0.0065314630196006435,0.006536900192523071,0.006542307822617618,0.006547685918060179,0.006553034487562015,0.006558353540363899,0.0065636430862301524,0.006568903135442715,0.006574133698795141,0.006579334787586568,0.006584506413615685,0.006589648589174631,0.006594761327042908,0.006599844640481216,0.006604898543225327,0.006609923049479848,0.006614918173912043,0.006619883931645562,0.006624820338254197,0.006629727409755579,0.006634605162604857,0.006639453613688383,0.006644272780317327,0.006649062680221323,0.006653823331542042,0.006658554752826798,0.006663256963022089,0.006667929981467154,0.006672573827887475,0.006677188522388317,0.006681774085448187,0.006686330537912331,0.006690857900986187,0.0066953561962288235,0.006699825445546389,0.006704265671185511,0.006708676895726726,0.006713059142077855,0.006717412433467407,0.006721736793437934,0.006726032245839422,0.00673029881482262,0.006734536524832419,0.0067387454006011755,0.006742925467142048,0.0067470767497423405,0.006751199273956813,0.006755293065601017,0.006759358150744599,0.006763394555704629,0.006767402307038902,0.006771381431539258,0.006775331956224888,0.006779253908335649,0.006783147315325374,0.006787012204855182,0.006790848604786801,0.006794656543175879,0.006798436048265315,0.006802187148478581,0.006805909872413053,0.0068096042488333475,0.0068132703066646795,0.006816908074986193,0.00682051758302434,0.006824098860146241,0.006827651935853064,0.006831176839773415,0.0068346736016567326,0.006838142251366711,0.006841582818874703,0.006844995334253191,0.0068483798276691935,0.006851736329377772,0.006855064869715478,0.006858365479093877,0.006861638187993045,0.006864883026955097,0.006868100026577752,0.006871289217507881,0.006874450630435109,0.006877584296085415,0.0068806902452147566,0.006883768508602731,0.006886819117046238,0.006889842101353169,0.006892837492336146,0.006895805320806242,0.006898745617566761,0.006901658413407032,0.006904543739096221,0.0069074016253771854,0.006910232102960346,0.006913035202517591,0.006915810954676208,0.006918559390012847,0.006921280539047506,0.006923974432237567,0.006926641099971841,0.006929280572564655,0.006931892880249985,0.006934478053175593,0.006937036121397228,0.0069395671148728445,0.006942071063456864,0.006944547996894467,0.0069469979448159285,0.006949420936730984,0.006951817002023239,0.0069541861699446185,0.006956528469609841,0.006958843929990964,0.006961132579911924,0.00696339444804317,0.006965629562896293,0.006967837952818725,0.006970019645988473,0.006972174670408893,0.006974303053903513,0.006976404824110901,0.0069784800084795725,0.006980528634262948,0.006982550728514359,0.006984546318082093,0.006986515429604495,0.006988458089505107,0.00699037432398787,0.006992264159032358,0.006994127620389076,0.006995964733574797,0.006997775523867955,0.006999560016304092,0.007001318235671354,0.00700305020650603,0.007004755953088157,0.007006435499437174,0.0070080888693076215,0.007009716086184911,0.007011317173281127,0.007012892153530912,0.0070144410495873695,0.007015963883818068,0.007017460678301059,0.007018931454820979,0.0070203762348651985,0.007021795039620027,0.0070231878899669805,0.00702455480647911,0.007025895809417374,0.007027210918727088,0.007028500154034424,0.007029763534642974,0.007031001079530367,0.007032212807344953,0.00703339873640255,0.007034558884683246,0.0070356932698282595,0.007036801909136881,0.007037884819563455,0.007038942017714436,0.007039973519845504,0.007040979341858747,0.007041959499299906,0.007042914007355679,0.0070438428808510985,0.0070447461342469635,0.007045623781637348,0.007046475836747156,0.007047302312929774,0.007048103223164749,0.007048878580055564,0.007049628395827466,0.007050352682325363,0.007051051451011789,0.007051724712964931,0.007052372478876728,0.007052994759051041,0.007053591563401877,0.007054162901451697,0.007054708782329781,0.007055229214770662,0.007055724207112634,0.007056193767296324,0.007056637902863334,0.007057056620954952,0.00705744992831093,0.00705781783126833,0.00705816033576045,0.007058477447315799,0.007058769171057163,0.007059035511700726,0.007059276473555267,0.007059492060521422,0.007059682276091022,0.007059847123346497,0.00705998660496035,0.007060100723194699,0.007060189479900896,0.0070602528765192065,0.007060290914078568,0.007060303593196416,0.007060290914078568,0.0070602528765192065,0.007060189479900896,0.007060100723194699,0.00705998660496035,0.007059847123346497,0.007059682276091022,0.007059492060521422,0.007059276473555267,0.007059035511700726,0.0070587691710571636,0.007058477447315799,0.00705816033576045,0.00705781783126833,0.00705744992831093,0.007057056620954952,0.007056637902863334,0.007056193767296324,0.007055724207112634,0.007055229214770662,0.007054708782329781,0.007054162901451698,0.007053591563401877,0.007052994759051041,0.007052372478876728,0.007051724712964931,0.007051051451011789,0.007050352682325363,0.007049628395827466,0.007048878580055564,0.007048103223164749,0.007047302312929774,0.007046475836747157,0.007045623781637348,0.0070447461342469635,0.0070438428808510985,0.007042914007355679,0.007041959499299906,0.007040979341858747,0.007039973519845504,0.007038942017714436,0.007037884819563455,0.007036801909136881,0.0070356932698282595,0.007034558884683246,0.00703339873640255,0.007032212807344953,0.007031001079530367,0.007029763534642974,0.007028500154034424,0.007027210918727088,0.007025895809417374,0.00702455480647911,0.0070231878899669805,0.007021795039620027,0.0070203762348651985,0.00701893145482098,0.007017460678301059,0.007015963883818068,0.0070144410495873695,0.007012892153530912,0.007011317173281129,0.00700971608618491,0.0070080888693076215,0.007006435499437174,0.007004755953088158,0.00700305020650603,0.007001318235671355,0.006999560016304092,0.006997775523867955,0.006995964733574797,0.006994127620389076,0.006992264159032358,0.00699037432398787,0.006988458089505107,0.006986515429604495,0.006984546318082093,0.006982550728514359,0.006980528634262949,0.0069784800084795725,0.006976404824110901,0.006974303053903513,0.006972174670408893,0.006970019645988473,0.006967837952818725,0.006965629562896293,0.00696339444804317,0.006961132579911924,0.006958843929990964,0.006956528469609843,0.0069541861699446185,0.00695181700202324,0.006949420936730984,0.0069469979448159285,0.006944547996894467,0.006942071063456864,0.0069395671148728445,0.006937036121397228,0.006934478053175593,0.006931892880249985,0.0069292805725646575,0.006926641099971841,0.006923974432237569,0.006921280539047506,0.006918559390012847,0.006915810954676208,0.006913035202517591,0.006910232102960346,0.0069074016253771854,0.006904543739096221,0.006901658413407032,0.006898745617566763,0.006895805320806242,0.006892837492336146,0.006889842101353169,0.006886819117046238,0.006883768508602731,0.0068806902452147566,0.006877584296085415,0.006874450630435109,0.006871289217507881,0.006868100026577752,0.006864883026955099,0.006861638187993045,0.006858365479093879,0.006855064869715478,0.006851736329377772,0.0068483798276691935,0.006844995334253191,0.006841582818874705,0.006838142251366708,0.0068346736016567326,0.006831176839773415,0.006827651935853066,0.006824098860146241,0.006820517583024341,0.006816908074986193,0.0068132703066646795,0.0068096042488333475,0.006805909872413053,0.006802187148478581,0.006798436048265315,0.006794656543175879,0.006790848604786801,0.006787012204855183,0.006783147315325374,0.006779253908335651,0.006775331956224888,0.006771381431539258,0.006767402307038902,0.006763394555704629,0.006759358150744599,0.006755293065601017,0.006751199273956813,0.0067470767497423405,0.006742925467142048,0.0067387454006011755,0.006734536524832422,0.00673029881482262,0.006726032245839422,0.006721736793437934,0.006717412433467407,0.006713059142077855,0.006708676895726726,0.006704265671185511,0.006699825445546389,0.0066953561962288235,0.006690857900986187,0.006686330537912334,0.006681774085448187,0.006677188522388317,0.006672573827887475,0.006667929981467154,0.006663256963022089,0.006658554752826798,0.006653823331542042,0.006649062680221323,0.006644272780317327,0.006639453613688383,0.006634605162604859,0.006629727409755579,0.006624820338254199,0.006619883931645562,0.006614918173912043,0.006609923049479848,0.006604898543225327,0.006599844640481219,0.006594761327042905,0.006589648589174631,0.006584506413615685,0.006579334787586571,0.006574133698795141,0.006568903135442717,0.0065636430862301524,0.006558353540363899,0.006553034487562015,0.006547685918060179,0.006542307822617622,0.006536900192523068,0.0065314630196006435,0.006525996296215714,0.006520500015280732,0.00651497417026102,0.006509418755180548,0.006503833764627631,0.006498219193760643,0.0064925750383136496,0.006486901294602034,0.006481197959528061,0.006475465030586433,0.006469702505869765,0.006463910384074057,0.006458088664504114,0.006452237347078912,0.00644635643233695,0.0064404459214415215,0.006434505816185992,0.006428536118998982,0.006422536832949551,0.006416507961752299,0.0064104495097724624,0.006404361482030926,0.006398243884209214,0.006392096722654429,0.006385920004384139,0.006379713737091226,0.006373477929148671,0.006367212589614319,0.00636091772823555,0.006354593355453953,0.006348239482409908,0.006341856120947144,0.006335443283617226,0.006329000983684005,0.006322529235128012,0.006316028052650808,0.006309497451679252,0.006302937448369751,0.006296348059612444,0.006289729303035315,0.0062830811970082815,0.006276403760647198,0.006269697013817832,0.0062629609771397594,0.006256195671990212,0.006249401120507893,0.006242577345596686,0.006235724370929348,0.0062288422209511255],\"yaxis\":\"y\",\"type\":\"scatter\"}],                        {\"barmode\":\"overlay\",\"hovermode\":\"closest\",\"legend\":{\"traceorder\":\"reversed\"},\"template\":{\"data\":{\"barpolar\":[{\"marker\":{\"line\":{\"color\":\"#E5ECF6\",\"width\":0.5},\"pattern\":{\"fillmode\":\"overlay\",\"size\":10,\"solidity\":0.2}},\"type\":\"barpolar\"}],\"bar\":[{\"error_x\":{\"color\":\"#2a3f5f\"},\"error_y\":{\"color\":\"#2a3f5f\"},\"marker\":{\"line\":{\"color\":\"#E5ECF6\",\"width\":0.5},\"pattern\":{\"fillmode\":\"overlay\",\"size\":10,\"solidity\":0.2}},\"type\":\"bar\"}],\"carpet\":[{\"aaxis\":{\"endlinecolor\":\"#2a3f5f\",\"gridcolor\":\"white\",\"linecolor\":\"white\",\"minorgridcolor\":\"white\",\"startlinecolor\":\"#2a3f5f\"},\"baxis\":{\"endlinecolor\":\"#2a3f5f\",\"gridcolor\":\"white\",\"linecolor\":\"white\",\"minorgridcolor\":\"white\",\"startlinecolor\":\"#2a3f5f\"},\"type\":\"carpet\"}],\"choropleth\":[{\"colorbar\":{\"outlinewidth\":0,\"ticks\":\"\"},\"type\":\"choropleth\"}],\"contourcarpet\":[{\"colorbar\":{\"outlinewidth\":0,\"ticks\":\"\"},\"type\":\"contourcarpet\"}],\"contour\":[{\"colorbar\":{\"outlinewidth\":0,\"ticks\":\"\"},\"colorscale\":[[0.0,\"#0d0887\"],[0.1111111111111111,\"#46039f\"],[0.2222222222222222,\"#7201a8\"],[0.3333333333333333,\"#9c179e\"],[0.4444444444444444,\"#bd3786\"],[0.5555555555555556,\"#d8576b\"],[0.6666666666666666,\"#ed7953\"],[0.7777777777777778,\"#fb9f3a\"],[0.8888888888888888,\"#fdca26\"],[1.0,\"#f0f921\"]],\"type\":\"contour\"}],\"heatmapgl\":[{\"colorbar\":{\"outlinewidth\":0,\"ticks\":\"\"},\"colorscale\":[[0.0,\"#0d0887\"],[0.1111111111111111,\"#46039f\"],[0.2222222222222222,\"#7201a8\"],[0.3333333333333333,\"#9c179e\"],[0.4444444444444444,\"#bd3786\"],[0.5555555555555556,\"#d8576b\"],[0.6666666666666666,\"#ed7953\"],[0.7777777777777778,\"#fb9f3a\"],[0.8888888888888888,\"#fdca26\"],[1.0,\"#f0f921\"]],\"type\":\"heatmapgl\"}],\"heatmap\":[{\"colorbar\":{\"outlinewidth\":0,\"ticks\":\"\"},\"colorscale\":[[0.0,\"#0d0887\"],[0.1111111111111111,\"#46039f\"],[0.2222222222222222,\"#7201a8\"],[0.3333333333333333,\"#9c179e\"],[0.4444444444444444,\"#bd3786\"],[0.5555555555555556,\"#d8576b\"],[0.6666666666666666,\"#ed7953\"],[0.7777777777777778,\"#fb9f3a\"],[0.8888888888888888,\"#fdca26\"],[1.0,\"#f0f921\"]],\"type\":\"heatmap\"}],\"histogram2dcontour\":[{\"colorbar\":{\"outlinewidth\":0,\"ticks\":\"\"},\"colorscale\":[[0.0,\"#0d0887\"],[0.1111111111111111,\"#46039f\"],[0.2222222222222222,\"#7201a8\"],[0.3333333333333333,\"#9c179e\"],[0.4444444444444444,\"#bd3786\"],[0.5555555555555556,\"#d8576b\"],[0.6666666666666666,\"#ed7953\"],[0.7777777777777778,\"#fb9f3a\"],[0.8888888888888888,\"#fdca26\"],[1.0,\"#f0f921\"]],\"type\":\"histogram2dcontour\"}],\"histogram2d\":[{\"colorbar\":{\"outlinewidth\":0,\"ticks\":\"\"},\"colorscale\":[[0.0,\"#0d0887\"],[0.1111111111111111,\"#46039f\"],[0.2222222222222222,\"#7201a8\"],[0.3333333333333333,\"#9c179e\"],[0.4444444444444444,\"#bd3786\"],[0.5555555555555556,\"#d8576b\"],[0.6666666666666666,\"#ed7953\"],[0.7777777777777778,\"#fb9f3a\"],[0.8888888888888888,\"#fdca26\"],[1.0,\"#f0f921\"]],\"type\":\"histogram2d\"}],\"histogram\":[{\"marker\":{\"pattern\":{\"fillmode\":\"overlay\",\"size\":10,\"solidity\":0.2}},\"type\":\"histogram\"}],\"mesh3d\":[{\"colorbar\":{\"outlinewidth\":0,\"ticks\":\"\"},\"type\":\"mesh3d\"}],\"parcoords\":[{\"line\":{\"colorbar\":{\"outlinewidth\":0,\"ticks\":\"\"}},\"type\":\"parcoords\"}],\"pie\":[{\"automargin\":true,\"type\":\"pie\"}],\"scatter3d\":[{\"line\":{\"colorbar\":{\"outlinewidth\":0,\"ticks\":\"\"}},\"marker\":{\"colorbar\":{\"outlinewidth\":0,\"ticks\":\"\"}},\"type\":\"scatter3d\"}],\"scattercarpet\":[{\"marker\":{\"colorbar\":{\"outlinewidth\":0,\"ticks\":\"\"}},\"type\":\"scattercarpet\"}],\"scattergeo\":[{\"marker\":{\"colorbar\":{\"outlinewidth\":0,\"ticks\":\"\"}},\"type\":\"scattergeo\"}],\"scattergl\":[{\"marker\":{\"colorbar\":{\"outlinewidth\":0,\"ticks\":\"\"}},\"type\":\"scattergl\"}],\"scattermapbox\":[{\"marker\":{\"colorbar\":{\"outlinewidth\":0,\"ticks\":\"\"}},\"type\":\"scattermapbox\"}],\"scatterpolargl\":[{\"marker\":{\"colorbar\":{\"outlinewidth\":0,\"ticks\":\"\"}},\"type\":\"scatterpolargl\"}],\"scatterpolar\":[{\"marker\":{\"colorbar\":{\"outlinewidth\":0,\"ticks\":\"\"}},\"type\":\"scatterpolar\"}],\"scatter\":[{\"fillpattern\":{\"fillmode\":\"overlay\",\"size\":10,\"solidity\":0.2},\"type\":\"scatter\"}],\"scatterternary\":[{\"marker\":{\"colorbar\":{\"outlinewidth\":0,\"ticks\":\"\"}},\"type\":\"scatterternary\"}],\"surface\":[{\"colorbar\":{\"outlinewidth\":0,\"ticks\":\"\"},\"colorscale\":[[0.0,\"#0d0887\"],[0.1111111111111111,\"#46039f\"],[0.2222222222222222,\"#7201a8\"],[0.3333333333333333,\"#9c179e\"],[0.4444444444444444,\"#bd3786\"],[0.5555555555555556,\"#d8576b\"],[0.6666666666666666,\"#ed7953\"],[0.7777777777777778,\"#fb9f3a\"],[0.8888888888888888,\"#fdca26\"],[1.0,\"#f0f921\"]],\"type\":\"surface\"}],\"table\":[{\"cells\":{\"fill\":{\"color\":\"#EBF0F8\"},\"line\":{\"color\":\"white\"}},\"header\":{\"fill\":{\"color\":\"#C8D4E3\"},\"line\":{\"color\":\"white\"}},\"type\":\"table\"}]},\"layout\":{\"annotationdefaults\":{\"arrowcolor\":\"#2a3f5f\",\"arrowhead\":0,\"arrowwidth\":1},\"autotypenumbers\":\"strict\",\"coloraxis\":{\"colorbar\":{\"outlinewidth\":0,\"ticks\":\"\"}},\"colorscale\":{\"diverging\":[[0,\"#8e0152\"],[0.1,\"#c51b7d\"],[0.2,\"#de77ae\"],[0.3,\"#f1b6da\"],[0.4,\"#fde0ef\"],[0.5,\"#f7f7f7\"],[0.6,\"#e6f5d0\"],[0.7,\"#b8e186\"],[0.8,\"#7fbc41\"],[0.9,\"#4d9221\"],[1,\"#276419\"]],\"sequential\":[[0.0,\"#0d0887\"],[0.1111111111111111,\"#46039f\"],[0.2222222222222222,\"#7201a8\"],[0.3333333333333333,\"#9c179e\"],[0.4444444444444444,\"#bd3786\"],[0.5555555555555556,\"#d8576b\"],[0.6666666666666666,\"#ed7953\"],[0.7777777777777778,\"#fb9f3a\"],[0.8888888888888888,\"#fdca26\"],[1.0,\"#f0f921\"]],\"sequentialminus\":[[0.0,\"#0d0887\"],[0.1111111111111111,\"#46039f\"],[0.2222222222222222,\"#7201a8\"],[0.3333333333333333,\"#9c179e\"],[0.4444444444444444,\"#bd3786\"],[0.5555555555555556,\"#d8576b\"],[0.6666666666666666,\"#ed7953\"],[0.7777777777777778,\"#fb9f3a\"],[0.8888888888888888,\"#fdca26\"],[1.0,\"#f0f921\"]]},\"colorway\":[\"#636efa\",\"#EF553B\",\"#00cc96\",\"#ab63fa\",\"#FFA15A\",\"#19d3f3\",\"#FF6692\",\"#B6E880\",\"#FF97FF\",\"#FECB52\"],\"font\":{\"color\":\"#2a3f5f\"},\"geo\":{\"bgcolor\":\"white\",\"lakecolor\":\"white\",\"landcolor\":\"#E5ECF6\",\"showlakes\":true,\"showland\":true,\"subunitcolor\":\"white\"},\"hoverlabel\":{\"align\":\"left\"},\"hovermode\":\"closest\",\"mapbox\":{\"style\":\"light\"},\"paper_bgcolor\":\"white\",\"plot_bgcolor\":\"#E5ECF6\",\"polar\":{\"angularaxis\":{\"gridcolor\":\"white\",\"linecolor\":\"white\",\"ticks\":\"\"},\"bgcolor\":\"#E5ECF6\",\"radialaxis\":{\"gridcolor\":\"white\",\"linecolor\":\"white\",\"ticks\":\"\"}},\"scene\":{\"xaxis\":{\"backgroundcolor\":\"#E5ECF6\",\"gridcolor\":\"white\",\"gridwidth\":2,\"linecolor\":\"white\",\"showbackground\":true,\"ticks\":\"\",\"zerolinecolor\":\"white\"},\"yaxis\":{\"backgroundcolor\":\"#E5ECF6\",\"gridcolor\":\"white\",\"gridwidth\":2,\"linecolor\":\"white\",\"showbackground\":true,\"ticks\":\"\",\"zerolinecolor\":\"white\"},\"zaxis\":{\"backgroundcolor\":\"#E5ECF6\",\"gridcolor\":\"white\",\"gridwidth\":2,\"linecolor\":\"white\",\"showbackground\":true,\"ticks\":\"\",\"zerolinecolor\":\"white\"}},\"shapedefaults\":{\"line\":{\"color\":\"#2a3f5f\"}},\"ternary\":{\"aaxis\":{\"gridcolor\":\"white\",\"linecolor\":\"white\",\"ticks\":\"\"},\"baxis\":{\"gridcolor\":\"white\",\"linecolor\":\"white\",\"ticks\":\"\"},\"bgcolor\":\"#E5ECF6\",\"caxis\":{\"gridcolor\":\"white\",\"linecolor\":\"white\",\"ticks\":\"\"}},\"title\":{\"x\":0.05},\"xaxis\":{\"automargin\":true,\"gridcolor\":\"white\",\"linecolor\":\"white\",\"ticks\":\"\",\"title\":{\"standoff\":15},\"zerolinecolor\":\"white\",\"zerolinewidth\":2},\"yaxis\":{\"automargin\":true,\"gridcolor\":\"white\",\"linecolor\":\"white\",\"ticks\":\"\",\"title\":{\"standoff\":15},\"zerolinecolor\":\"white\",\"zerolinewidth\":2}}},\"title\":{\"text\":\"Credit Card Transactions Time Density Plot\"},\"xaxis\":{\"anchor\":\"y2\",\"domain\":[0.0,1.0],\"title\":{\"text\":\"Time [s]\"},\"zeroline\":false},\"yaxis\":{\"anchor\":\"free\",\"domain\":[0.0,1],\"position\":0.0}},                        {\"responsive\": true}                    ).then(function(){\n",
              "                            \n",
              "var gd = document.getElementById('e089089f-4c46-4c9d-9d75-1e601620d5a5');\n",
              "var x = new MutationObserver(function (mutations, observer) {{\n",
              "        var display = window.getComputedStyle(gd).display;\n",
              "        if (!display || display === 'none') {{\n",
              "            console.log([gd, 'removed!']);\n",
              "            Plotly.purge(gd);\n",
              "            observer.disconnect();\n",
              "        }}\n",
              "}});\n",
              "\n",
              "// Listen for the removal of the full notebook cells\n",
              "var notebookContainer = gd.closest('#notebook-container');\n",
              "if (notebookContainer) {{\n",
              "    x.observe(notebookContainer, {childList: true});\n",
              "}}\n",
              "\n",
              "// Listen for the clearing of the current output cell\n",
              "var outputEl = gd.closest('.output');\n",
              "if (outputEl) {{\n",
              "    x.observe(outputEl, {childList: true});\n",
              "}}\n",
              "\n",
              "                        })                };                            </script>        </div>\n",
              "</body>\n",
              "</html>"
            ]
          },
          "metadata": {}
        }
      ],
      "source": [
        "class_0 = credit_card_data.loc[credit_card_data['Class'] == 0][\"Time\"]\n",
        "class_1 = credit_card_data.loc[credit_card_data['Class'] == 1][\"Time\"]\n",
        "\n",
        "hist_data = [class_0, class_1]\n",
        "group_labels = ['Not Fraud', 'Fraud']\n",
        "\n",
        "fig = ff.create_distplot(hist_data, group_labels, show_hist=False, show_rug=False)\n",
        "fig['layout'].update(title='Credit Card Transactions Time Density Plot', xaxis=dict(title='Time [s]'))\n",
        "iplot(fig, filename='dist_only')"
      ]
    },
    {
      "cell_type": "markdown",
      "metadata": {
        "id": "IKkuXrMyyWks"
      },
      "source": [
        "**Split Original Data into Training Data and Testing Data**"
      ]
    },
    {
      "cell_type": "code",
      "execution_count": 22,
      "metadata": {
        "id": "aSP3MS6gxbxL"
      },
      "outputs": [],
      "source": [
        "from sklearn.model_selection import train_test_split\n",
        "X_train, X_test, Y_train, Y_test = train_test_split(X, Y, test_size=0.2, stratify=Y, random_state=2)"
      ]
    },
    {
      "cell_type": "code",
      "execution_count": 23,
      "metadata": {
        "colab": {
          "base_uri": "https://localhost:8080/"
        },
        "id": "O2LQOZXNyNJ3",
        "outputId": "1168b558-e832-4c2a-d1d7-de90afd47e61"
      },
      "outputs": [
        {
          "output_type": "stream",
          "name": "stdout",
          "text": [
            "(2922, 30) (2337, 30) (585, 30)\n"
          ]
        }
      ],
      "source": [
        "print(X.shape, X_train.shape, X_test.shape)"
      ]
    },
    {
      "cell_type": "markdown",
      "metadata": {
        "id": "AbMC3YYayl0g"
      },
      "source": [
        "**Model**"
      ]
    },
    {
      "cell_type": "markdown",
      "metadata": {
        "id": "nXYxQXwCYTd0"
      },
      "source": [
        "**Supervised Algorithm**"
      ]
    },
    {
      "cell_type": "markdown",
      "metadata": {
        "id": "cNRNDgU4y04J"
      },
      "source": [
        "**Logistic Regression**"
      ]
    },
    {
      "cell_type": "code",
      "execution_count": 24,
      "metadata": {
        "id": "SNBNfo0kymNu"
      },
      "outputs": [],
      "source": [
        "from sklearn.linear_model import LogisticRegression\n",
        "model = LogisticRegression()"
      ]
    },
    {
      "cell_type": "code",
      "execution_count": 25,
      "metadata": {
        "colab": {
          "base_uri": "https://localhost:8080/",
          "height": 248
        },
        "id": "W1bSRV1RzHCB",
        "outputId": "9a9ca153-061e-485a-adb4-2b9caea282e8"
      },
      "outputs": [
        {
          "output_type": "stream",
          "name": "stderr",
          "text": [
            "/usr/local/lib/python3.10/dist-packages/sklearn/linear_model/_logistic.py:458: ConvergenceWarning:\n",
            "\n",
            "lbfgs failed to converge (status=1):\n",
            "STOP: TOTAL NO. of ITERATIONS REACHED LIMIT.\n",
            "\n",
            "Increase the number of iterations (max_iter) or scale the data as shown in:\n",
            "    https://scikit-learn.org/stable/modules/preprocessing.html\n",
            "Please also refer to the documentation for alternative solver options:\n",
            "    https://scikit-learn.org/stable/modules/linear_model.html#logistic-regression\n",
            "\n"
          ]
        },
        {
          "output_type": "execute_result",
          "data": {
            "text/plain": [
              "LogisticRegression()"
            ],
            "text/html": [
              "<style>#sk-container-id-1 {color: black;background-color: white;}#sk-container-id-1 pre{padding: 0;}#sk-container-id-1 div.sk-toggleable {background-color: white;}#sk-container-id-1 label.sk-toggleable__label {cursor: pointer;display: block;width: 100%;margin-bottom: 0;padding: 0.3em;box-sizing: border-box;text-align: center;}#sk-container-id-1 label.sk-toggleable__label-arrow:before {content: \"▸\";float: left;margin-right: 0.25em;color: #696969;}#sk-container-id-1 label.sk-toggleable__label-arrow:hover:before {color: black;}#sk-container-id-1 div.sk-estimator:hover label.sk-toggleable__label-arrow:before {color: black;}#sk-container-id-1 div.sk-toggleable__content {max-height: 0;max-width: 0;overflow: hidden;text-align: left;background-color: #f0f8ff;}#sk-container-id-1 div.sk-toggleable__content pre {margin: 0.2em;color: black;border-radius: 0.25em;background-color: #f0f8ff;}#sk-container-id-1 input.sk-toggleable__control:checked~div.sk-toggleable__content {max-height: 200px;max-width: 100%;overflow: auto;}#sk-container-id-1 input.sk-toggleable__control:checked~label.sk-toggleable__label-arrow:before {content: \"▾\";}#sk-container-id-1 div.sk-estimator input.sk-toggleable__control:checked~label.sk-toggleable__label {background-color: #d4ebff;}#sk-container-id-1 div.sk-label input.sk-toggleable__control:checked~label.sk-toggleable__label {background-color: #d4ebff;}#sk-container-id-1 input.sk-hidden--visually {border: 0;clip: rect(1px 1px 1px 1px);clip: rect(1px, 1px, 1px, 1px);height: 1px;margin: -1px;overflow: hidden;padding: 0;position: absolute;width: 1px;}#sk-container-id-1 div.sk-estimator {font-family: monospace;background-color: #f0f8ff;border: 1px dotted black;border-radius: 0.25em;box-sizing: border-box;margin-bottom: 0.5em;}#sk-container-id-1 div.sk-estimator:hover {background-color: #d4ebff;}#sk-container-id-1 div.sk-parallel-item::after {content: \"\";width: 100%;border-bottom: 1px solid gray;flex-grow: 1;}#sk-container-id-1 div.sk-label:hover label.sk-toggleable__label {background-color: #d4ebff;}#sk-container-id-1 div.sk-serial::before {content: \"\";position: absolute;border-left: 1px solid gray;box-sizing: border-box;top: 0;bottom: 0;left: 50%;z-index: 0;}#sk-container-id-1 div.sk-serial {display: flex;flex-direction: column;align-items: center;background-color: white;padding-right: 0.2em;padding-left: 0.2em;position: relative;}#sk-container-id-1 div.sk-item {position: relative;z-index: 1;}#sk-container-id-1 div.sk-parallel {display: flex;align-items: stretch;justify-content: center;background-color: white;position: relative;}#sk-container-id-1 div.sk-item::before, #sk-container-id-1 div.sk-parallel-item::before {content: \"\";position: absolute;border-left: 1px solid gray;box-sizing: border-box;top: 0;bottom: 0;left: 50%;z-index: -1;}#sk-container-id-1 div.sk-parallel-item {display: flex;flex-direction: column;z-index: 1;position: relative;background-color: white;}#sk-container-id-1 div.sk-parallel-item:first-child::after {align-self: flex-end;width: 50%;}#sk-container-id-1 div.sk-parallel-item:last-child::after {align-self: flex-start;width: 50%;}#sk-container-id-1 div.sk-parallel-item:only-child::after {width: 0;}#sk-container-id-1 div.sk-dashed-wrapped {border: 1px dashed gray;margin: 0 0.4em 0.5em 0.4em;box-sizing: border-box;padding-bottom: 0.4em;background-color: white;}#sk-container-id-1 div.sk-label label {font-family: monospace;font-weight: bold;display: inline-block;line-height: 1.2em;}#sk-container-id-1 div.sk-label-container {text-align: center;}#sk-container-id-1 div.sk-container {/* jupyter's `normalize.less` sets `[hidden] { display: none; }` but bootstrap.min.css set `[hidden] { display: none !important; }` so we also need the `!important` here to be able to override the default hidden behavior on the sphinx rendered scikit-learn.org. See: https://github.com/scikit-learn/scikit-learn/issues/21755 */display: inline-block !important;position: relative;}#sk-container-id-1 div.sk-text-repr-fallback {display: none;}</style><div id=\"sk-container-id-1\" class=\"sk-top-container\"><div class=\"sk-text-repr-fallback\"><pre>LogisticRegression()</pre><b>In a Jupyter environment, please rerun this cell to show the HTML representation or trust the notebook. <br />On GitHub, the HTML representation is unable to render, please try loading this page with nbviewer.org.</b></div><div class=\"sk-container\" hidden><div class=\"sk-item\"><div class=\"sk-estimator sk-toggleable\"><input class=\"sk-toggleable__control sk-hidden--visually\" id=\"sk-estimator-id-1\" type=\"checkbox\" checked><label for=\"sk-estimator-id-1\" class=\"sk-toggleable__label sk-toggleable__label-arrow\">LogisticRegression</label><div class=\"sk-toggleable__content\"><pre>LogisticRegression()</pre></div></div></div></div></div>"
            ]
          },
          "metadata": {},
          "execution_count": 25
        }
      ],
      "source": [
        "model.fit(X_train, Y_train)"
      ]
    },
    {
      "cell_type": "code",
      "execution_count": 26,
      "metadata": {
        "id": "z8TLLYT-2UH7"
      },
      "outputs": [],
      "source": [
        "from sklearn.metrics import precision_recall_curve,recall_score;"
      ]
    },
    {
      "cell_type": "code",
      "execution_count": 27,
      "metadata": {
        "colab": {
          "base_uri": "https://localhost:8080/",
          "height": 559
        },
        "id": "oKEIelgo1f3S",
        "outputId": "ba472911-d9ca-4333-fa14-de570383df45"
      },
      "outputs": [
        {
          "output_type": "stream",
          "name": "stderr",
          "text": [
            "/usr/local/lib/python3.10/dist-packages/sklearn/metrics/_ranking.py:891: UserWarning:\n",
            "\n",
            "No positive class found in y_true, recall is set to one for all thresholds.\n",
            "\n"
          ]
        },
        {
          "output_type": "execute_result",
          "data": {
            "text/plain": [
              "Text(0.5, 1.0, 'Precision Recall Curve')"
            ]
          },
          "metadata": {},
          "execution_count": 27
        },
        {
          "output_type": "display_data",
          "data": {
            "text/plain": [
              "<Figure size 640x480 with 1 Axes>"
            ],
            "image/png": "[encoded data removed]"
          },
          "metadata": {}
        }
      ],
      "source": [
        "y_pred_prob = model.predict_proba(X_test)[:,1]\n",
        "precision, recall, thresholds = precision_recall_curve(Y_test, y_pred_prob)\n",
        "plt.plot(precision, recall)\n",
        "plt.xlabel('Recall')\n",
        "plt.ylabel('Precision')\n",
        "plt.title('Precision Recall Curve')"
      ]
    },
    {
      "cell_type": "markdown",
      "metadata": {
        "id": "52Tzide1pUKR"
      },
      "source": [
        "**ACCURACY SCORE**"
      ]
    },
    {
      "cell_type": "code",
      "execution_count": 28,
      "metadata": {
        "id": "vJjbby1z0ALh"
      },
      "outputs": [],
      "source": [
        "# accuracy on training data\n",
        "from sklearn.metrics import accuracy_score\n",
        "X_train_prediction = model.predict(X_train)\n",
        "training_data_accuracy = accuracy_score(X_train_prediction, Y_train)"
      ]
    },
    {
      "cell_type": "code",
      "execution_count": 29,
      "metadata": {
        "colab": {
          "base_uri": "https://localhost:8080/"
        },
        "id": "ASVQyGbs1Q2C",
        "outputId": "b95914fd-0c8f-4a29-d2b8-36efb682a399"
      },
      "outputs": [
        {
          "output_type": "stream",
          "name": "stdout",
          "text": [
            "Accuracy on Training data :  0.9995721009841677\n"
          ]
        }
      ],
      "source": [
        "print('Accuracy on Training data : ', training_data_accuracy)"
      ]
    },
    {
      "cell_type": "code",
      "execution_count": 30,
      "metadata": {
        "id": "T99Mqa_K1WuB"
      },
      "outputs": [],
      "source": [
        "# accuracy on test data\n",
        "X_test_prediction = model.predict(X_test)\n",
        "test_data_accuracy = accuracy_score(X_test_prediction, Y_test)"
      ]
    },
    {
      "cell_type": "code",
      "execution_count": 31,
      "metadata": {
        "colab": {
          "base_uri": "https://localhost:8080/"
        },
        "id": "8fmD-hEa1X24",
        "outputId": "a350d110-7325-4121-8c3a-dc11fc8cff4c"
      },
      "outputs": [
        {
          "output_type": "stream",
          "name": "stdout",
          "text": [
            "Accuracy score on Test Data :  1.0\n"
          ]
        }
      ],
      "source": [
        "print('Accuracy score on Test Data : ', test_data_accuracy)"
      ]
    },
    {
      "cell_type": "markdown",
      "metadata": {
        "id": "zmQZAyDW1euL"
      },
      "source": [
        "**Naive Bayes**"
      ]
    },
    {
      "cell_type": "code",
      "execution_count": 32,
      "metadata": {
        "id": "zmspOiM3w3DA"
      },
      "outputs": [],
      "source": [
        "from sklearn.naive_bayes import GaussianNB"
      ]
    },
    {
      "cell_type": "code",
      "execution_count": 33,
      "metadata": {
        "colab": {
          "base_uri": "https://localhost:8080/"
        },
        "id": "uQ4Kb4Bf1hIC",
        "outputId": "cef8225b-ab10-4932-fffc-1ebe4172a7a4"
      },
      "outputs": [
        {
          "output_type": "stream",
          "name": "stdout",
          "text": [
            "Accuracy of Naive Bayes: 100.00%\n"
          ]
        }
      ],
      "source": [
        "nb = GaussianNB()\n",
        "nb.fit(X_train,Y_train)\n",
        "acc = nb.score(X_test,Y_test)*100\n",
        "print(\"Accuracy of Naive Bayes: {:.2f}%\".format(acc))"
      ]
    },
    {
      "cell_type": "markdown",
      "metadata": {
        "id": "NP-vQg1H51A_"
      },
      "source": [
        "**Random Forest**"
      ]
    },
    {
      "cell_type": "code",
      "execution_count": 34,
      "metadata": {
        "id": "SDCrcVGmw-1E"
      },
      "outputs": [],
      "source": [
        "from sklearn.ensemble import RandomForestClassifier"
      ]
    },
    {
      "cell_type": "code",
      "execution_count": 35,
      "metadata": {
        "colab": {
          "base_uri": "https://localhost:8080/",
          "height": 75
        },
        "id": "QGr9rGs8baIt",
        "outputId": "cd022375-e670-4fb9-fea8-223347a247d5"
      },
      "outputs": [
        {
          "output_type": "execute_result",
          "data": {
            "text/plain": [
              "RandomForestClassifier()"
            ],
            "text/html": [
              "<style>#sk-container-id-2 {color: black;background-color: white;}#sk-container-id-2 pre{padding: 0;}#sk-container-id-2 div.sk-toggleable {background-color: white;}#sk-container-id-2 label.sk-toggleable__label {cursor: pointer;display: block;width: 100%;margin-bottom: 0;padding: 0.3em;box-sizing: border-box;text-align: center;}#sk-container-id-2 label.sk-toggleable__label-arrow:before {content: \"▸\";float: left;margin-right: 0.25em;color: #696969;}#sk-container-id-2 label.sk-toggleable__label-arrow:hover:before {color: black;}#sk-container-id-2 div.sk-estimator:hover label.sk-toggleable__label-arrow:before {color: black;}#sk-container-id-2 div.sk-toggleable__content {max-height: 0;max-width: 0;overflow: hidden;text-align: left;background-color: #f0f8ff;}#sk-container-id-2 div.sk-toggleable__content pre {margin: 0.2em;color: black;border-radius: 0.25em;background-color: #f0f8ff;}#sk-container-id-2 input.sk-toggleable__control:checked~div.sk-toggleable__content {max-height: 200px;max-width: 100%;overflow: auto;}#sk-container-id-2 input.sk-toggleable__control:checked~label.sk-toggleable__label-arrow:before {content: \"▾\";}#sk-container-id-2 div.sk-estimator input.sk-toggleable__control:checked~label.sk-toggleable__label {background-color: #d4ebff;}#sk-container-id-2 div.sk-label input.sk-toggleable__control:checked~label.sk-toggleable__label {background-color: #d4ebff;}#sk-container-id-2 input.sk-hidden--visually {border: 0;clip: rect(1px 1px 1px 1px);clip: rect(1px, 1px, 1px, 1px);height: 1px;margin: -1px;overflow: hidden;padding: 0;position: absolute;width: 1px;}#sk-container-id-2 div.sk-estimator {font-family: monospace;background-color: #f0f8ff;border: 1px dotted black;border-radius: 0.25em;box-sizing: border-box;margin-bottom: 0.5em;}#sk-container-id-2 div.sk-estimator:hover {background-color: #d4ebff;}#sk-container-id-2 div.sk-parallel-item::after {content: \"\";width: 100%;border-bottom: 1px solid gray;flex-grow: 1;}#sk-container-id-2 div.sk-label:hover label.sk-toggleable__label {background-color: #d4ebff;}#sk-container-id-2 div.sk-serial::before {content: \"\";position: absolute;border-left: 1px solid gray;box-sizing: border-box;top: 0;bottom: 0;left: 50%;z-index: 0;}#sk-container-id-2 div.sk-serial {display: flex;flex-direction: column;align-items: center;background-color: white;padding-right: 0.2em;padding-left: 0.2em;position: relative;}#sk-container-id-2 div.sk-item {position: relative;z-index: 1;}#sk-container-id-2 div.sk-parallel {display: flex;align-items: stretch;justify-content: center;background-color: white;position: relative;}#sk-container-id-2 div.sk-item::before, #sk-container-id-2 div.sk-parallel-item::before {content: \"\";position: absolute;border-left: 1px solid gray;box-sizing: border-box;top: 0;bottom: 0;left: 50%;z-index: -1;}#sk-container-id-2 div.sk-parallel-item {display: flex;flex-direction: column;z-index: 1;position: relative;background-color: white;}#sk-container-id-2 div.sk-parallel-item:first-child::after {align-self: flex-end;width: 50%;}#sk-container-id-2 div.sk-parallel-item:last-child::after {align-self: flex-start;width: 50%;}#sk-container-id-2 div.sk-parallel-item:only-child::after {width: 0;}#sk-container-id-2 div.sk-dashed-wrapped {border: 1px dashed gray;margin: 0 0.4em 0.5em 0.4em;box-sizing: border-box;padding-bottom: 0.4em;background-color: white;}#sk-container-id-2 div.sk-label label {font-family: monospace;font-weight: bold;display: inline-block;line-height: 1.2em;}#sk-container-id-2 div.sk-label-container {text-align: center;}#sk-container-id-2 div.sk-container {/* jupyter's `normalize.less` sets `[hidden] { display: none; }` but bootstrap.min.css set `[hidden] { display: none !important; }` so we also need the `!important` here to be able to override the default hidden behavior on the sphinx rendered scikit-learn.org. See: https://github.com/scikit-learn/scikit-learn/issues/21755 */display: inline-block !important;position: relative;}#sk-container-id-2 div.sk-text-repr-fallback {display: none;}</style><div id=\"sk-container-id-2\" class=\"sk-top-container\"><div class=\"sk-text-repr-fallback\"><pre>RandomForestClassifier()</pre><b>In a Jupyter environment, please rerun this cell to show the HTML representation or trust the notebook. <br />On GitHub, the HTML representation is unable to render, please try loading this page with nbviewer.org.</b></div><div class=\"sk-container\" hidden><div class=\"sk-item\"><div class=\"sk-estimator sk-toggleable\"><input class=\"sk-toggleable__control sk-hidden--visually\" id=\"sk-estimator-id-2\" type=\"checkbox\" checked><label for=\"sk-estimator-id-2\" class=\"sk-toggleable__label sk-toggleable__label-arrow\">RandomForestClassifier</label><div class=\"sk-toggleable__content\"><pre>RandomForestClassifier()</pre></div></div></div></div></div>"
            ]
          },
          "metadata": {},
          "execution_count": 35
        }
      ],
      "source": [
        "rfc = RandomForestClassifier()\n",
        "rfc.fit(X_train,Y_train)"
      ]
    },
    {
      "cell_type": "code",
      "execution_count": 36,
      "metadata": {
        "id": "T2phV80-fgXW"
      },
      "outputs": [],
      "source": [
        "y_pred = rfc.predict(X_test)"
      ]
    },
    {
      "cell_type": "code",
      "execution_count": 37,
      "metadata": {
        "colab": {
          "base_uri": "https://localhost:8080/"
        },
        "id": "g8zkKhaQfjQe",
        "outputId": "815972cf-8b81-45f9-fb1d-24ffffc01149"
      },
      "outputs": [
        {
          "output_type": "stream",
          "name": "stdout",
          "text": [
            "The model used is Random Forest classifier\n",
            "The accuracy is  1.0\n"
          ]
        }
      ],
      "source": [
        "print(\"The model used is Random Forest classifier\")\n",
        "acc= accuracy_score(Y_test,y_pred)\n",
        "print(\"The accuracy is  {}\".format(acc))"
      ]
    },
    {
      "cell_type": "code",
      "execution_count": 38,
      "metadata": {
        "id": "SiSd_F1XyCi7"
      },
      "outputs": [],
      "source": [
        "from sklearn.metrics import confusion_matrix"
      ]
    },
    {
      "cell_type": "code",
      "execution_count": 39,
      "metadata": {
        "colab": {
          "base_uri": "https://localhost:8080/",
          "height": 1000
        },
        "id": "Be8X7y1df6Vu",
        "outputId": "9e83d6de-b518-43b8-9db8-a16ef9e4f4ec"
      },
      "outputs": [
        {
          "output_type": "display_data",
          "data": {
            "text/plain": [
              "<Figure size 1200x1200 with 2 Axes>"
            ],
            "image/png": "[encoded data removed]"
          },
          "metadata": {}
        }
      ],
      "source": [
        "LABELS = ['Normal', 'Fraud']\n",
        "conf_matrix = confusion_matrix(Y_test, y_pred)\n",
        "plt.figure(figsize=(12, 12))\n",
        "sns.heatmap(conf_matrix, xticklabels=LABELS,\n",
        "            yticklabels=LABELS, annot=True, fmt=\"d\",);\n",
        "plt.title(\"Confusion matrix\")\n",
        "plt.ylabel('True class')\n",
        "plt.xlabel('Predicted class')\n",
        "plt.show()"
      ]
    },
    {
      "cell_type": "markdown",
      "metadata": {
        "id": "8LnJwgwzYgCR"
      },
      "source": [
        "**Unsupervised Algorithm**"
      ]
    },
    {
      "cell_type": "markdown",
      "metadata": {
        "id": "IVGWR_gWYnAA"
      },
      "source": [
        "**K-Means**"
      ]
    },
    {
      "cell_type": "code",
      "execution_count": 40,
      "metadata": {
        "id": "VLbCUJz8xCiA"
      },
      "outputs": [],
      "source": [
        "from sklearn.cluster import KMeans"
      ]
    },
    {
      "cell_type": "code",
      "execution_count": 41,
      "metadata": {
        "id": "5gw2tR7AYlft"
      },
      "outputs": [],
      "source": [
        "import time\n",
        "from sklearn.preprocessing import normalize\n",
        "tic=time.time()"
      ]
    },
    {
      "cell_type": "code",
      "execution_count": 42,
      "metadata": {
        "id": "Hc5dxGpIdanE"
      },
      "outputs": [],
      "source": [
        "full_features=credit_card_data.drop([\"Time\",\"Class\"],axis=1)\n",
        "full_labels=pd.DataFrame(credit_card_data[[\"Class\"]])"
      ]
    },
    {
      "cell_type": "code",
      "execution_count": 43,
      "metadata": {
        "id": "-H4c6erOdK7b"
      },
      "outputs": [],
      "source": [
        "full_features_array=full_features.values\n",
        "full_labels_array=full_labels.values\n",
        "train_features,test_features,train_labels,test_labels=train_test_split(full_features_array,full_labels_array,train_size=0.90)"
      ]
    },
    {
      "cell_type": "code",
      "execution_count": 44,
      "metadata": {
        "id": "7gq24sg3dqFK"
      },
      "outputs": [],
      "source": [
        "train_features=normalize(train_features)\n",
        "test_features=normalize(test_features)"
      ]
    },
    {
      "cell_type": "code",
      "execution_count": 45,
      "metadata": {
        "colab": {
          "base_uri": "https://localhost:8080/"
        },
        "id": "NcISJ76ud7vN",
        "outputId": "004f1656-7f3f-43b7-c18f-4ec111d52869"
      },
      "outputs": [
        {
          "output_type": "stream",
          "name": "stderr",
          "text": [
            "/usr/local/lib/python3.10/dist-packages/sklearn/cluster/_kmeans.py:870: FutureWarning:\n",
            "\n",
            "The default value of `n_init` will change from 10 to 'auto' in 1.4. Set the value of `n_init` explicitly to suppress the warning\n",
            "\n"
          ]
        }
      ],
      "source": [
        "kmeans=KMeans(n_clusters=2,random_state=0,algorithm=\"elkan\",max_iter=10000)\n",
        "kmeans.fit(train_features)\n",
        "kmeans_predicted_train_labels=kmeans.predict(train_features)"
      ]
    },
    {
      "cell_type": "code",
      "execution_count": 46,
      "metadata": {
        "id": "8y-h5DhRfCe-"
      },
      "outputs": [],
      "source": [
        "kmeans_predicted_test_labels=kmeans.predict(test_features)\n",
        "kmeans_accuracy_score=accuracy_score(test_labels,kmeans_predicted_test_labels)"
      ]
    },
    {
      "cell_type": "code",
      "execution_count": 47,
      "metadata": {
        "colab": {
          "base_uri": "https://localhost:8080/"
        },
        "id": "VotyLysufynX",
        "outputId": "c064b082-772c-424d-e5d5-fd664750f41b"
      },
      "outputs": [
        {
          "output_type": "stream",
          "name": "stdout",
          "text": [
            "Accuracy --> 0.8225255972696246\n"
          ]
        }
      ],
      "source": [
        "print(\"Accuracy -->\",kmeans_accuracy_score)"
      ]
    }
  ],
  "metadata": {
    "colab": {
      "provenance": [],
      "include_colab_link": true
    },
    "kernelspec": {
      "display_name": "Python 3",
      "name": "python3"
    },
    "language_info": {
      "name": "python"
    }
  },
  "nbformat": 4,
  "nbformat_minor": 0
}